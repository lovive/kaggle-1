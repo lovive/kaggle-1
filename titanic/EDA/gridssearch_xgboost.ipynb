{
 "cells": [
  {
   "cell_type": "markdown",
   "metadata": {},
   "source": [
    "# XGBoost调参技巧（二）Titanic实战预测进入9%"
   ]
  },
  {
   "cell_type": "markdown",
   "metadata": {},
   "source": [
    "Titanic是Kaggle竞赛里的入门比赛之一，要求参赛者根据乘客的属性来预测是否幸存，是典型的二分类（Binary Classifier）问题。解决二分类问题的算法有很多：决策树、随机森林、GBM，而XGBoost是GBM的优化实现。因此本文以Titanic幸存者预测竞赛为例，介绍XGBoost的调参技巧。\n",
    "\n",
    "## 一、读取数据，清洗数据"
   ]
  },
  {
   "cell_type": "markdown",
   "metadata": {},
   "source": [
    "### 1.读取数据"
   ]
  },
  {
   "cell_type": "code",
   "execution_count": 1,
   "metadata": {
    "collapsed": false
   },
   "outputs": [
    {
     "name": "stderr",
     "output_type": "stream",
     "text": [
      "/home/shunguo/SDE/anaconda2/lib/python2.7/site-packages/sklearn/cross_validation.py:44: DeprecationWarning: This module was deprecated in version 0.18 in favor of the model_selection module into which all the refactored classes and functions are moved. Also note that the interface of the new CV iterators are different from that of this module. This module will be removed in 0.20.\n",
      "  \"This module will be removed in 0.20.\", DeprecationWarning)\n",
      "/home/shunguo/SDE/anaconda2/lib/python2.7/site-packages/sklearn/grid_search.py:43: DeprecationWarning: This module was deprecated in version 0.18 in favor of the model_selection module into which all the refactored classes and functions are moved. This module will be removed in 0.20.\n",
      "  DeprecationWarning)\n"
     ]
    }
   ],
   "source": [
    "#coding:utf-8\n",
    "import numpy as np\n",
    "import pandas as pd\n",
    "from xgboost import XGBClassifier\n",
    "from sklearn.cross_validation import KFold\n",
    "from sklearn.grid_search import GridSearchCV\n",
    "from sklearn.metrics import accuracy_score\n",
    "\n",
    "#read data\n",
    "train = pd.read_csv(\"../data/train.csv\")\n",
    "test = pd.read_csv(\"../data/test.csv\")"
   ]
  },
  {
   "cell_type": "markdown",
   "metadata": {},
   "source": [
    "导入需要用到的包，注意我导入的是xgboost下的XGBClassifier包，可以结合sciket-learn下的grid_search来对参数进行暴力猜解。\n",
    "\n",
    "### 2.清洗数据"
   ]
  },
  {
   "cell_type": "code",
   "execution_count": 2,
   "metadata": {
    "collapsed": false
   },
   "outputs": [],
   "source": [
    "def clean_data(titanic):#填充空数据 和 把string数据转成integer表示\n",
    "    titanic[\"Age\"] = titanic[\"Age\"].fillna(titanic[\"Age\"].median())\n",
    "    # child\n",
    "    titanic[\"child\"] = titanic[\"Age\"].apply(lambda x: 1 if x < 15 else 0)\n",
    "\n",
    "    # sex\n",
    "    titanic[\"sex\"] = titanic[\"Sex\"].apply(lambda x: 1 if x == \"male\" else 0)\n",
    "\n",
    "    titanic[\"Embarked\"] = titanic[\"Embarked\"].fillna(\"S\")\n",
    "    # embark\n",
    "    def getEmbark(Embarked):\n",
    "        if Embarked == \"S\":\n",
    "            return 1\n",
    "        elif Embarked == \"C\":\n",
    "            return 2\n",
    "        else:\n",
    "            return 3\n",
    "    titanic[\"embark\"] = titanic[\"Embarked\"].apply(getEmbark)\n",
    "    \n",
    "    # familysize\n",
    "    titanic[\"fimalysize\"] = titanic[\"SibSp\"] + titanic[\"Parch\"] + 1\n",
    "\n",
    "    # cabin\n",
    "    def getCabin(cabin):\n",
    "        if cabin == \"N\":\n",
    "            return 0\n",
    "        else:\n",
    "            return 1\n",
    "    titanic[\"cabin\"] = titanic[\"Cabin\"].apply(getCabin)\n",
    "    \n",
    "    # name\n",
    "    def getName(name):\n",
    "        if \"Mr\" in str(name):\n",
    "            return 1\n",
    "        elif \"Mrs\" in str(name):\n",
    "            return 2\n",
    "        else:\n",
    "            return 0\n",
    "    titanic[\"name\"] = titanic[\"Name\"].apply(getName)\n",
    "\n",
    "    titanic[\"Fare\"] = titanic[\"Fare\"].fillna(titanic[\"Fare\"].median())\n",
    "\n",
    "    return titanic\n",
    "# 对数据进行清洗\n",
    "train_data = clean_data(train)\n",
    "test_data = clean_data(test)"
   ]
  },
  {
   "cell_type": "markdown",
   "metadata": {},
   "source": [
    "## 二、特征工程\n",
    "\n",
    "Kaggle竞赛的三个核心步骤：**特征工程、调参、模型融合**。俗话说：**数据和特征决定机器学习的上限，而算法只是用来逼近这个上限**，所以特征工程是机器学习能否成功的关键。我们在每个比赛中需要花大量时间来反复完成这个工作。"
   ]
  },
  {
   "cell_type": "code",
   "execution_count": 3,
   "metadata": {
    "collapsed": true
   },
   "outputs": [],
   "source": [
    "features = [\"Pclass\", \"sex\", \"child\", \"fimalysize\", \"Fare\", \"embark\", \"cabin\"]"
   ]
  },
  {
   "cell_type": "markdown",
   "metadata": {},
   "source": [
    "## 三、模型选择"
   ]
  },
  {
   "cell_type": "markdown",
   "metadata": {},
   "source": [
    "### 1.构造模型"
   ]
  },
  {
   "cell_type": "code",
   "execution_count": 9,
   "metadata": {
    "collapsed": true
   },
   "outputs": [],
   "source": [
    "# 简单初始化xgb的分类器就可以\n",
    "clf =XGBClassifier(learning_rate=0.1, max_depth=6, silent=True, objective='binary:logistic')"
   ]
  },
  {
   "cell_type": "markdown",
   "metadata": {},
   "source": [
    "### 2.交叉验证kfold\n",
    "利用skean提供的grid_search来进行交叉验证选择参数"
   ]
  },
  {
   "cell_type": "code",
   "execution_count": 14,
   "metadata": {
    "collapsed": false
   },
   "outputs": [
    {
     "data": {
      "text/plain": [
       "([mean: 0.81818, std: 0.01692, params: {'n_estimators': 40, 'max_depth': 3},\n",
       "  mean: 0.81369, std: 0.02371, params: {'n_estimators': 50, 'max_depth': 3},\n",
       "  mean: 0.81257, std: 0.02241, params: {'n_estimators': 60, 'max_depth': 3},\n",
       "  mean: 0.81706, std: 0.02833, params: {'n_estimators': 70, 'max_depth': 3},\n",
       "  mean: 0.81706, std: 0.02833, params: {'n_estimators': 80, 'max_depth': 3},\n",
       "  mean: 0.81818, std: 0.02990, params: {'n_estimators': 90, 'max_depth': 3},\n",
       "  mean: 0.83053, std: 0.03091, params: {'n_estimators': 40, 'max_depth': 5},\n",
       "  mean: 0.82604, std: 0.03252, params: {'n_estimators': 50, 'max_depth': 5},\n",
       "  mean: 0.82492, std: 0.03402, params: {'n_estimators': 60, 'max_depth': 5},\n",
       "  mean: 0.82716, std: 0.03314, params: {'n_estimators': 70, 'max_depth': 5},\n",
       "  mean: 0.82941, std: 0.03553, params: {'n_estimators': 80, 'max_depth': 5},\n",
       "  mean: 0.82492, std: 0.03666, params: {'n_estimators': 90, 'max_depth': 5},\n",
       "  mean: 0.82828, std: 0.03595, params: {'n_estimators': 40, 'max_depth': 7},\n",
       "  mean: 0.82941, std: 0.03264, params: {'n_estimators': 50, 'max_depth': 7},\n",
       "  mean: 0.82828, std: 0.03356, params: {'n_estimators': 60, 'max_depth': 7},\n",
       "  mean: 0.82941, std: 0.03438, params: {'n_estimators': 70, 'max_depth': 7},\n",
       "  mean: 0.82941, std: 0.03615, params: {'n_estimators': 80, 'max_depth': 7},\n",
       "  mean: 0.82828, std: 0.03680, params: {'n_estimators': 90, 'max_depth': 7},\n",
       "  mean: 0.82941, std: 0.03438, params: {'n_estimators': 40, 'max_depth': 9},\n",
       "  mean: 0.82941, std: 0.03256, params: {'n_estimators': 50, 'max_depth': 9},\n",
       "  mean: 0.82941, std: 0.03488, params: {'n_estimators': 60, 'max_depth': 9},\n",
       "  mean: 0.82941, std: 0.03625, params: {'n_estimators': 70, 'max_depth': 9},\n",
       "  mean: 0.82941, std: 0.03399, params: {'n_estimators': 80, 'max_depth': 9},\n",
       "  mean: 0.83165, std: 0.03457, params: {'n_estimators': 90, 'max_depth': 9}],\n",
       " {'max_depth': 9, 'n_estimators': 90},\n",
       " 0.8316498316498316)"
      ]
     },
     "execution_count": 14,
     "metadata": {},
     "output_type": "execute_result"
    }
   ],
   "source": [
    "params = {\n",
    "    'max_depth': range(3, 11, 2),\n",
    "    'n_estimators': range(40, 100, 10)\n",
    "}\n",
    "grid_search = GridSearchCV(estimator=clf, param_grid=params, cv=5)\n",
    "grid_search.fit(train_data[features], train_data['Survived'])\n",
    "grid_search.grid_scores_, grid_Search.best_params_, grid_Search.best_score_"
   ]
  },
  {
   "cell_type": "code",
   "execution_count": 15,
   "metadata": {
    "collapsed": false
   },
   "outputs": [],
   "source": [
    "pre = grid_search.predict(test[features])\n",
    "predict_dataframe = pd.DataFrame({\n",
    "    \"PassengerId\": test[\"PassengerId\"],\n",
    "    \"Survived\": pre\n",
    "})\n",
    "predict_dataframe.to_csv('../data/xgboost-gridsearch.csv',index=False,encoding=\"utf-8\")"
   ]
  },
  {
   "cell_type": "code",
   "execution_count": null,
   "metadata": {
    "collapsed": true
   },
   "outputs": [],
   "source": []
  }
 ],
 "metadata": {
  "anaconda-cloud": {},
  "kernelspec": {
   "display_name": "Python 2",
   "language": "python",
   "name": "python2"
  },
  "language_info": {
   "codemirror_mode": {
    "name": "ipython",
    "version": 2
   },
   "file_extension": ".py",
   "mimetype": "text/x-python",
   "name": "python",
   "nbconvert_exporter": "python",
   "pygments_lexer": "ipython2",
   "version": "2.7.13"
  }
 },
 "nbformat": 4,
 "nbformat_minor": 0
}

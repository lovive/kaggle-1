{
 "cells": [
  {
   "cell_type": "markdown",
   "metadata": {},
   "source": [
    "# XGBoost调参技巧（二）Titanic实战预测进入9%"
   ]
  },
  {
   "cell_type": "markdown",
   "metadata": {},
   "source": [
    "Titanic是Kaggle竞赛里的入门比赛之一，要求参赛者根据乘客的属性来预测是否幸存，是典型的二分类（Binary Classifier）问题。解决二分类问题的算法有很多：决策树、随机森林、GBM，而XGBoost是GBM的优化实现。因此本文以Titanic幸存者预测竞赛为例，介绍XGBoost的调参技巧。\n",
    "\n",
    "## 一、读取数据，清洗数据"
   ]
  },
  {
   "cell_type": "markdown",
   "metadata": {},
   "source": [
    "### 1.读取数据"
   ]
  },
  {
   "cell_type": "code",
   "execution_count": 1,
   "metadata": {
    "collapsed": false
   },
   "outputs": [],
   "source": [
    "#coding:utf-8\n",
    "import numpy as np\n",
    "import pandas as pd\n",
    "from xgboost import XGBClassifier\n",
    "from sklearn.cross_validation import KFold\n",
    "from sklearn.grid_search import GridSearchCV\n",
    "from sklearn.metrics import accuracy_score\n",
    "\n",
    "#read data\n",
    "train = pd.read_csv(\"../data/train.csv\")\n",
    "test = pd.read_csv(\"../data/test.csv\")"
   ]
  },
  {
   "cell_type": "markdown",
   "metadata": {},
   "source": [
    "导入需要用到的包，注意我导入的是xgboost下的XGBClassifier包，可以结合sciket-learn下的grid_search来对参数进行暴力猜解。\n",
    "\n",
    "### 2.清洗数据"
   ]
  },
  {
   "cell_type": "code",
   "execution_count": 2,
   "metadata": {
    "collapsed": false
   },
   "outputs": [],
   "source": [
    "def clean_data(titanic):#填充空数据 和 把string数据转成integer表示\n",
    "    titanic[\"Age\"] = titanic[\"Age\"].fillna(titanic[\"Age\"].median())\n",
    "    # child\n",
    "    titanic[\"child\"] = titanic[\"Age\"].apply(lambda x: 1 if x < 15 else 0)\n",
    "\n",
    "    # sex\n",
    "    titanic[\"sex\"] = titanic[\"Sex\"].apply(lambda x: 1 if x == \"male\" else 0)\n",
    "\n",
    "    titanic[\"Embarked\"] = titanic[\"Embarked\"].fillna(\"S\")\n",
    "    # embark\n",
    "    def getEmbark(Embarked):\n",
    "        if Embarked == \"S\":\n",
    "            return 1\n",
    "        elif Embarked == \"C\":\n",
    "            return 2\n",
    "        else:\n",
    "            return 3\n",
    "    titanic[\"embark\"] = titanic[\"Embarked\"].apply(getEmbark)\n",
    "    \n",
    "    # familysize\n",
    "    titanic[\"fimalysize\"] = titanic[\"SibSp\"] + titanic[\"Parch\"] + 1\n",
    "\n",
    "    # cabin\n",
    "    def getCabin(cabin):\n",
    "        if cabin == \"N\":\n",
    "            return 0\n",
    "        else:\n",
    "            return 1\n",
    "    titanic[\"cabin\"] = titanic[\"Cabin\"].apply(getCabin)\n",
    "    \n",
    "    # name\n",
    "    def getName(name):\n",
    "        if \"Mr\" in str(name):\n",
    "            return 1\n",
    "        elif \"Mrs\" in str(name):\n",
    "            return 2\n",
    "        else:\n",
    "            return 0\n",
    "    titanic[\"name\"] = titanic[\"Name\"].apply(getName)\n",
    "\n",
    "    titanic[\"Fare\"] = titanic[\"Fare\"].fillna(titanic[\"Fare\"].median())\n",
    "\n",
    "    return titanic\n",
    "# 对数据进行清洗\n",
    "train_data = clean_data(train)\n",
    "test_data = clean_data(test)"
   ]
  },
  {
   "cell_type": "markdown",
   "metadata": {},
   "source": [
    "## 二、特征工程\n",
    "\n",
    "Kaggle竞赛的三个核心步骤：**特征工程、调参、模型融合**。俗话说：**数据和特征决定机器学习的上限，而算法只是用来逼近这个上限**，所以特征工程是机器学习能否成功的关键。我们在每个比赛中需要花大量时间来反复完成这个工作。"
   ]
  },
  {
   "cell_type": "code",
   "execution_count": 3,
   "metadata": {
    "collapsed": true
   },
   "outputs": [],
   "source": [
    "features = [\"Pclass\", \"sex\", \"child\", \"fimalysize\", \"Fare\", \"embark\", \"cabin\"]"
   ]
  },
  {
   "cell_type": "markdown",
   "metadata": {},
   "source": [
    "## 三、模型选择"
   ]
  },
  {
   "cell_type": "markdown",
   "metadata": {},
   "source": [
    "### 1.构造模型"
   ]
  },
  {
   "cell_type": "code",
   "execution_count": 4,
   "metadata": {
    "collapsed": true
   },
   "outputs": [],
   "source": [
    "# 简单初始化xgb的分类器就可以\n",
    "clf =XGBClassifier(learning_rate=0.1, max_depth=2, silent=True, objective='binary:logistic')"
   ]
  },
  {
   "cell_type": "markdown",
   "metadata": {},
   "source": [
    "### 2.交叉验证kfold\n",
    "利用skean提供的grid_search来进行交叉验证选择参数"
   ]
  },
  {
   "cell_type": "code",
   "execution_count": 5,
   "metadata": {
    "collapsed": false
   },
   "outputs": [
    {
     "data": {
      "text/plain": [
       "([mean: 0.81594, std: 0.00673, params: {'n_estimators': 30, 'max_depth': 2},\n",
       "  mean: 0.81930, std: 0.00916, params: {'n_estimators': 32, 'max_depth': 2},\n",
       "  mean: 0.82267, std: 0.00978, params: {'n_estimators': 34, 'max_depth': 2},\n",
       "  mean: 0.82043, std: 0.01423, params: {'n_estimators': 36, 'max_depth': 2},\n",
       "  mean: 0.82267, std: 0.01585, params: {'n_estimators': 38, 'max_depth': 2},\n",
       "  mean: 0.82604, std: 0.01800, params: {'n_estimators': 40, 'max_depth': 2},\n",
       "  mean: 0.82604, std: 0.01800, params: {'n_estimators': 42, 'max_depth': 2},\n",
       "  mean: 0.82379, std: 0.01629, params: {'n_estimators': 44, 'max_depth': 2},\n",
       "  mean: 0.82379, std: 0.01629, params: {'n_estimators': 46, 'max_depth': 2},\n",
       "  mean: 0.82267, std: 0.01545, params: {'n_estimators': 48, 'max_depth': 2},\n",
       "  mean: 0.82043, std: 0.01642, params: {'n_estimators': 30, 'max_depth': 3},\n",
       "  mean: 0.81930, std: 0.01690, params: {'n_estimators': 32, 'max_depth': 3},\n",
       "  mean: 0.81818, std: 0.01863, params: {'n_estimators': 34, 'max_depth': 3},\n",
       "  mean: 0.81930, std: 0.01827, params: {'n_estimators': 36, 'max_depth': 3},\n",
       "  mean: 0.81706, std: 0.01759, params: {'n_estimators': 38, 'max_depth': 3},\n",
       "  mean: 0.81818, std: 0.01692, params: {'n_estimators': 40, 'max_depth': 3},\n",
       "  mean: 0.81706, std: 0.01759, params: {'n_estimators': 42, 'max_depth': 3},\n",
       "  mean: 0.81706, std: 0.01759, params: {'n_estimators': 44, 'max_depth': 3},\n",
       "  mean: 0.81257, std: 0.02241, params: {'n_estimators': 46, 'max_depth': 3},\n",
       "  mean: 0.81369, std: 0.02371, params: {'n_estimators': 48, 'max_depth': 3},\n",
       "  mean: 0.81257, std: 0.02156, params: {'n_estimators': 30, 'max_depth': 4},\n",
       "  mean: 0.81369, std: 0.02117, params: {'n_estimators': 32, 'max_depth': 4},\n",
       "  mean: 0.81594, std: 0.02391, params: {'n_estimators': 34, 'max_depth': 4},\n",
       "  mean: 0.81481, std: 0.02273, params: {'n_estimators': 36, 'max_depth': 4},\n",
       "  mean: 0.82267, std: 0.03085, params: {'n_estimators': 38, 'max_depth': 4},\n",
       "  mean: 0.82155, std: 0.03203, params: {'n_estimators': 40, 'max_depth': 4},\n",
       "  mean: 0.82155, std: 0.03203, params: {'n_estimators': 42, 'max_depth': 4},\n",
       "  mean: 0.82155, std: 0.03203, params: {'n_estimators': 44, 'max_depth': 4},\n",
       "  mean: 0.82155, std: 0.03159, params: {'n_estimators': 46, 'max_depth': 4},\n",
       "  mean: 0.82043, std: 0.03246, params: {'n_estimators': 48, 'max_depth': 4},\n",
       "  mean: 0.82828, std: 0.03210, params: {'n_estimators': 30, 'max_depth': 5},\n",
       "  mean: 0.82716, std: 0.03130, params: {'n_estimators': 32, 'max_depth': 5},\n",
       "  mean: 0.82716, std: 0.03130, params: {'n_estimators': 34, 'max_depth': 5},\n",
       "  mean: 0.82828, std: 0.03310, params: {'n_estimators': 36, 'max_depth': 5},\n",
       "  mean: 0.82941, std: 0.03192, params: {'n_estimators': 38, 'max_depth': 5},\n",
       "  mean: 0.83053, std: 0.03091, params: {'n_estimators': 40, 'max_depth': 5},\n",
       "  mean: 0.83053, std: 0.03091, params: {'n_estimators': 42, 'max_depth': 5},\n",
       "  mean: 0.83053, std: 0.03091, params: {'n_estimators': 44, 'max_depth': 5},\n",
       "  mean: 0.83053, std: 0.03171, params: {'n_estimators': 46, 'max_depth': 5},\n",
       "  mean: 0.82828, std: 0.03416, params: {'n_estimators': 48, 'max_depth': 5},\n",
       "  mean: 0.83053, std: 0.02797, params: {'n_estimators': 30, 'max_depth': 6},\n",
       "  mean: 0.83165, std: 0.02896, params: {'n_estimators': 32, 'max_depth': 6},\n",
       "  mean: 0.83165, std: 0.03122, params: {'n_estimators': 34, 'max_depth': 6},\n",
       "  mean: 0.83053, std: 0.03207, params: {'n_estimators': 36, 'max_depth': 6},\n",
       "  mean: 0.82716, std: 0.03176, params: {'n_estimators': 38, 'max_depth': 6},\n",
       "  mean: 0.82828, std: 0.03275, params: {'n_estimators': 40, 'max_depth': 6},\n",
       "  mean: 0.82828, std: 0.03275, params: {'n_estimators': 42, 'max_depth': 6},\n",
       "  mean: 0.82828, std: 0.03495, params: {'n_estimators': 44, 'max_depth': 6},\n",
       "  mean: 0.82828, std: 0.03459, params: {'n_estimators': 46, 'max_depth': 6},\n",
       "  mean: 0.82828, std: 0.03685, params: {'n_estimators': 48, 'max_depth': 6}],\n",
       " {'max_depth': 6, 'n_estimators': 32},\n",
       " 0.83164983164983164)"
      ]
     },
     "execution_count": 5,
     "metadata": {},
     "output_type": "execute_result"
    }
   ],
   "source": [
    "# 设置boosting迭代计算次数\n",
    "param_test = {\n",
    "    'n_estimators': range(30, 50, 2),\n",
    "    'max_depth': range(2, 7, 1)\n",
    "}\n",
    "grid_search = GridSearchCV(estimator = clf, param_grid = param_test, scoring='accuracy', cv=5)\n",
    "grid_search.fit(train[features], train[\"Survived\"])\n",
    "grid_search.grid_scores_, grid_search.best_params_, grid_search.best_score_"
   ]
  },
  {
   "cell_type": "code",
   "execution_count": 43,
   "metadata": {
    "collapsed": false
   },
   "outputs": [],
   "source": [
    "pre = grid_search.predict(test[features])\n",
    "predict_dataframe = pd.DataFrame({\n",
    "    \"PassengerId\": test[\"PassengerId\"],\n",
    "    \"Survived\": pre\n",
    "})\n",
    "predict_dataframe.to_csv('../data/xgboost-gridsearch.csv',index=False,encoding=\"utf-8\")"
   ]
  }
 ],
 "metadata": {
  "anaconda-cloud": {},
  "kernelspec": {
   "display_name": "Python [default]",
   "language": "python",
   "name": "python2"
  },
  "language_info": {
   "codemirror_mode": {
    "name": "ipython",
    "version": 2
   },
   "file_extension": ".py",
   "mimetype": "text/x-python",
   "name": "python",
   "nbconvert_exporter": "python",
   "pygments_lexer": "ipython2",
   "version": "2.7.12"
  }
 },
 "nbformat": 4,
 "nbformat_minor": 1
}

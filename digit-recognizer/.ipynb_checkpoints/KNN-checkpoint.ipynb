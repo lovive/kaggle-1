{
 "cells": [
  {
   "cell_type": "markdown",
   "metadata": {},
   "source": [
    "# 利用KNN算法识别手写数字"
   ]
  },
  {
   "cell_type": "code",
   "execution_count": 1,
   "metadata": {
    "collapsed": true
   },
   "outputs": [],
   "source": [
    "# -*- coding: utf-8 -*-\n",
    "\n",
    "import numpy as np\n",
    "import pandas as pd\n",
    "import matplotlib.pyplot as plt\n",
    "plt.rcParams['font.sans-serif']=['simhei'] #用于正常显示中文\n",
    "plt.rcParams['axes.unicode_minus']=False #用于正常显示负号\n"
   ]
  },
  {
   "cell_type": "code",
   "execution_count": 13,
   "metadata": {
    "collapsed": true
   },
   "outputs": [],
   "source": [
    "testDataSet = pd.read_csv('data/test.csv')\n",
    "trainDataSet = pd.read_csv('data/train.csv')"
   ]
  },
  {
   "cell_type": "code",
   "execution_count": 14,
   "metadata": {
    "collapsed": false
   },
   "outputs": [
    {
     "name": "stdout",
     "output_type": "stream",
     "text": [
      "<class 'pandas.core.frame.DataFrame'>\n",
      "RangeIndex: 28000 entries, 0 to 27999\n",
      "Columns: 784 entries, pixel0 to pixel783\n",
      "dtypes: int64(784)\n",
      "memory usage: 167.5 MB\n"
     ]
    }
   ],
   "source": [
    "testDataSet.info()"
   ]
  },
  {
   "cell_type": "code",
   "execution_count": 10,
   "metadata": {
    "collapsed": true
   },
   "outputs": [],
   "source": [
    "m,n = np.shape(testDataSet)\n",
    "dataMat = np.multiply(dataSet != np.zeros((m,n)),np.ones((m,1)))"
   ]
  },
  {
   "cell_type": "code",
   "execution_count": null,
   "metadata": {
    "collapsed": true
   },
   "outputs": [],
   "source": [
    "def classify(inX, dataSet, labels, k):  \n",
    "    inX=mat(inX)  \n",
    "    dataSet=mat(dataSet)  \n",
    "    labels=mat(labels)  \n",
    "    dataSetSize = dataSet.shape[0]                    \n",
    "    diffMat = tile(inX, (dataSetSize,1)) - dataSet     \n",
    "    sqDiffMat = array(diffMat)**2  \n",
    "    sqDistances = sqDiffMat.sum(axis=1)                    \n",
    "    distances = sqDistances**0.5  \n",
    "    sortedDistIndicies = distances.argsort()              \n",
    "    classCount={}                                        \n",
    "    for i in range(k):  \n",
    "        voteIlabel = labels[0,sortedDistIndicies[i]]  \n",
    "        classCount[voteIlabel] = classCount.get(voteIlabel,0) + 1  \n",
    "    sortedClassCount = sorted(classCount.iteritems(), key=operator.itemgetter(1), reverse=True)  \n",
    "    return sortedClassCount[0][0] \n",
    "    "
   ]
  }
 ],
 "metadata": {
  "anaconda-cloud": {},
  "kernelspec": {
   "display_name": "Python [conda root]",
   "language": "python",
   "name": "conda-root-py"
  },
  "language_info": {
   "codemirror_mode": {
    "name": "ipython",
    "version": 2
   },
   "file_extension": ".py",
   "mimetype": "text/x-python",
   "name": "python",
   "nbconvert_exporter": "python",
   "pygments_lexer": "ipython2",
   "version": "2.7.12"
  }
 },
 "nbformat": 4,
 "nbformat_minor": 1
}

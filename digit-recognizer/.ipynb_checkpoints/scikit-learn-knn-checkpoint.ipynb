{
 "cells": [
  {
   "cell_type": "code",
   "execution_count": 2,
   "metadata": {
    "collapsed": true
   },
   "outputs": [],
   "source": [
    "# -*- coding: utf-8 -*-\n",
    "\n",
    "import numpy as np\n",
    "import pandas as pd\n",
    "import operator\n",
    "from sklearn.neighbors import KNeighborsClassifier"
   ]
  },
  {
   "cell_type": "code",
   "execution_count": 5,
   "metadata": {
    "collapsed": true
   },
   "outputs": [],
   "source": [
    "def loaddata():\n",
    "    testData = pd.read_csv('data/test.csv')\n",
    "    trainData = pd.read_csv('data/train.csv')\n",
    "    trainLabel = trainData['label']\n",
    "    trainDataSet = trainData.iloc[:,1:785]\n",
    "    #归一化处理\n",
    "    m_t,n_t = np.shape(testData)\n",
    "    m_tr,n_tr = np.shape(trainDataSet)\n",
    "    testDataMat = np.multiply(testData != np.zeros((m_t,n_t)),np.ones((m_t,1)))\n",
    "    trainDataMat = np.multiply(trainDataSet != np.zeros((m_tr,n_tr)),np.ones((m_tr,1)))\n",
    "    \n",
    "    return testDataMat,trainDataMat,trainLabel"
   ]
  },
  {
   "cell_type": "code",
   "execution_count": 10,
   "metadata": {
    "collapsed": false
   },
   "outputs": [],
   "source": [
    "testData,trainData,label = loaddata()"
   ]
  },
  {
   "cell_type": "code",
   "execution_count": null,
   "metadata": {
    "collapsed": false
   },
   "outputs": [],
   "source": [
    "neighbors = KNeighborsClassifier(n_neighbors=4)\n",
    "neighbors.fit(trainData,label)\n",
    "pre = neighbors.predict(testData)"
   ]
  },
  {
   "cell_type": "code",
   "execution_count": null,
   "metadata": {
    "collapsed": true
   },
   "outputs": [],
   "source": []
  }
 ],
 "metadata": {
  "anaconda-cloud": {},
  "kernelspec": {
   "display_name": "Python [conda root]",
   "language": "python",
   "name": "conda-root-py"
  },
  "language_info": {
   "codemirror_mode": {
    "name": "ipython",
    "version": 2
   },
   "file_extension": ".py",
   "mimetype": "text/x-python",
   "name": "python",
   "nbconvert_exporter": "python",
   "pygments_lexer": "ipython2",
   "version": "2.7.12"
  }
 },
 "nbformat": 4,
 "nbformat_minor": 1
}

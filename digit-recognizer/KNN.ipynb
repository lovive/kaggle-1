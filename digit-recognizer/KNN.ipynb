{
 "cells": [
  {
   "cell_type": "markdown",
   "metadata": {},
   "source": [
    "# 利用KNN算法识别手写数字"
   ]
  },
  {
   "cell_type": "code",
   "execution_count": 1,
   "metadata": {},
   "outputs": [],
   "source": [
    "# -*- coding: utf-8 -*-\n",
    "\n",
    "import numpy as np\n",
    "import pandas as pd\n",
    "import matplotlib.pyplot as plt\n",
    "import operator\n",
    "import time\n",
    "plt.rcParams['font.sans-serif']=['simhei'] #用于正常显示中文\n",
    "plt.rcParams['axes.unicode_minus']=False #用于正常显示负号"
   ]
  },
  {
   "cell_type": "code",
   "execution_count": 2,
   "metadata": {},
   "outputs": [],
   "source": [
    "testDataSet = pd.read_csv('data/test.csv')\n",
    "trainDataSet = pd.read_csv('data/train.csv')"
   ]
  },
  {
   "cell_type": "code",
   "execution_count": 3,
   "metadata": {},
   "outputs": [],
   "source": [
    "trainLabel = trainDataSet['label']\n",
    "trainData = trainDataSet.iloc[:,1:785]"
   ]
  },
  {
   "cell_type": "code",
   "execution_count": 4,
   "metadata": {},
   "outputs": [
    {
     "data": {
      "text/plain": [
       "28000"
      ]
     },
     "execution_count": 4,
     "output_type": "execute_result",
     "metadata": {}
    }
   ],
   "source": [
    "m_t,n_t = np.shape(testDataSet)\n",
    "m_tr,n_tr = np.shape(trainData)\n",
    "\n",
    "testDataMat = np.multiply(testDataSet != np.zeros((m_t,n_t)),np.ones((m_t,1)))\n",
    "trainDataMat = np.multiply(trainData != np.zeros((m_tr,n_tr)),np.ones((m_tr,1)))    \n",
    "np.shape(testDataMat)[0]"
   ]
  },
  {
   "cell_type": "code",
   "execution_count": 5,
   "metadata": {},
   "outputs": [],
   "source": [
    "def classify(inX, dataSet, labels, k):  \n",
    "    dataSetSize = dataSet.shape[0]                    \n",
    "    diffMat = np.tile(inX, (dataSetSize,1)) - dataSet     \n",
    "    sqDiffMat = diffMat**2  \n",
    "    sqDistances = sqDiffMat.sum(axis=1)                    \n",
    "    distances = sqDistances**0.5  \n",
    "    sortedDistIndicies = distances.argsort()              \n",
    "    classCount={}                                        \n",
    "    for i in range(k):  \n",
    "        voteIlabel = labels[sortedDistIndicies[i]]  \n",
    "        classCount[voteIlabel] = classCount.get(voteIlabel,0) + 1  \n",
    "    sortedClassCount = sorted(classCount.iteritems(), key=operator.itemgetter(1), reverse=True)  \n",
    "    return sortedClassCount[0][0]"
   ]
  },
  {
   "cell_type": "code",
   "execution_count": null,
   "metadata": {},
   "outputs": [
    {
     "name": "stdout",
     "output_type": "stream",
     "text": [
      "This is 1testdata,classdify is:2\n",
      "This is 2testdata,classdify is:0\n",
      "This is 3testdata,classdify is:9\n",
      "This is 4testdata,classdify is:9\n",
      "This is 5testdata,classdify is:3\n",
      "This is 6testdata,classdify is:7\n",
      "This is 7testdata,classdify is:0\n",
      "This is 8testdata,classdify is:3\n",
      "This is 9testdata,classdify is:0\n",
      "This is 10testdata,classdify is:3\n",
      "This is 11testdata,classdify is:5\n",
      "This is 12testdata,classdify is:7\n",
      "This is 13testdata,classdify is:4\n",
      "This is 14testdata,classdify is:0\n",
      "This is 15testdata,classdify is:4\n",
      "This is 16testdata,classdify is:3\n",
      "This is 17testdata,classdify is:3\n",
      "This is 18testdata,classdify is:1\n",
      "This is 19testdata,classdify is:9\n",
      "This is 20testdata,classdify is:0\n",
      "This is 21testdata,classdify is:9\n",
      "This is 22testdata,classdify is:1\n",
      "This is 23testdata,classdify is:1\n",
      "This is 24testdata,classdify is:5\n",
      "This is 25testdata,classdify is:7\n",
      "This is 26testdata,classdify is:4\n",
      "This is 27testdata,classdify is:2\n",
      "This is 28testdata,classdify is:7\n",
      "This is 29testdata,classdify is:9\n",
      "This is 30testdata,classdify is:7\n",
      "This is 31testdata,classdify is:7\n",
      "This is 32testdata,classdify is:5\n",
      "This is 33testdata,classdify is:4\n",
      "This is 34testdata,classdify is:2\n",
      "This is 35testdata,classdify is:6\n",
      "This is 36testdata,classdify is:2\n",
      "This is 37testdata,classdify is:5\n",
      "This is 38testdata,classdify is:5\n",
      "This is 39testdata,classdify is:1\n",
      "This is 40testdata,classdify is:6\n",
      "This is 41testdata,classdify is:7\n",
      "This is 42testdata,classdify is:7\n",
      "This is 43testdata,classdify is:4\n",
      "This is 44testdata,classdify is:9\n",
      "This is 45testdata,classdify is:5\n"
     ]
    }
   ],
   "source": [
    "Label = []\n",
    "ImageId = []\n",
    "np.shape(testDataMat)[0]\n",
    "i=1\n",
    "time1 = time.time()\n",
    "for i in range(np.shape(testDataMat)[0]):\n",
    "    classdifys = classify(testDataMat.iloc[i],trainDataMat,trainLabel,k=5)\n",
    "    ImageId.append(i+1)\n",
    "    Label.append(classdifys)\n",
    "    print \"This is \" + str(i+1) +\"testdata,classdify is:\" + str(classdifys)\n",
    "time2 = time.time()\n",
    "train_time = time2-time1\n",
    "data = pd.DataFrame(Label,ImageId)\n",
    "data.to_csv('data/classdify.csv',encoding='utf-8')"
   ]
  },
  {
   "cell_type": "code",
   "execution_count": null,
   "metadata": {},
   "outputs": [],
   "source": [
    "train_time"
   ]
  },
  {
   "cell_type": "code",
   "execution_count": null,
   "metadata": {},
   "outputs": [],
   "source": [
    ""
   ]
  }
 ],
 "metadata": {
  "anaconda-cloud": {},
  "kernelspec": {
   "display_name": "Python [conda root]",
   "language": "python",
   "name": "conda-root-py"
  },
  "language_info": {
   "codemirror_mode": {
    "name": "ipython",
    "version": 2.0
   },
   "file_extension": ".py",
   "mimetype": "text/x-python",
   "name": "python",
   "nbconvert_exporter": "python",
   "pygments_lexer": "ipython2",
   "version": "2.7.12"
  }
 },
 "nbformat": 4,
 "nbformat_minor": 1
}
{
 "cells": [
  {
   "cell_type": "code",
   "execution_count": 1,
   "metadata": {
    "collapsed": false
   },
   "outputs": [
    {
     "name": "stderr",
     "output_type": "stream",
     "text": [
      "/home/shunguo/SDE/anaconda2/lib/python2.7/site-packages/sklearn/cross_validation.py:44: DeprecationWarning: This module was deprecated in version 0.18 in favor of the model_selection module into which all the refactored classes and functions are moved. Also note that the interface of the new CV iterators are different from that of this module. This module will be removed in 0.20.\n",
      "  \"This module will be removed in 0.20.\", DeprecationWarning)\n"
     ]
    }
   ],
   "source": [
    "import numpy as np\n",
    "import pandas as pd\n",
    "import xgboost as xgb\n",
    "from sklearn.cross_validation import train_test_split"
   ]
  },
  {
   "cell_type": "markdown",
   "metadata": {},
   "source": [
    "## load data"
   ]
  },
  {
   "cell_type": "code",
   "execution_count": 2,
   "metadata": {
    "collapsed": true
   },
   "outputs": [],
   "source": [
    "test_df = pd.read_csv('data/test.csv')\n",
    "train_df = pd.read_csv('data/train.csv')"
   ]
  },
  {
   "cell_type": "markdown",
   "metadata": {},
   "source": [
    "## make xgboost DMatrix"
   ]
  },
  {
   "cell_type": "code",
   "execution_count": 8,
   "metadata": {
    "collapsed": false
   },
   "outputs": [],
   "source": [
    "train, valid = train_test_split(train_df, test_size = 0.33, random_state=1)\n",
    "\n",
    "y_train = train.label\n",
    "x_train = train.drop(['label'], axis=1)\n",
    "\n",
    "y_valid = valid.label\n",
    "x_valid = valid.drop(['label'], axis=1)\n",
    "\n",
    "xgb_train = xgb.DMatrix(x_train, label=y_train)\n",
    "xgb_valid = xgb.DMatrix(x_valid, label=y_valid)\n",
    "xgb_test = xgb.DMatrix(test_df)"
   ]
  },
  {
   "cell_type": "code",
   "execution_count": 9,
   "metadata": {
    "collapsed": false
   },
   "outputs": [
    {
     "name": "stdout",
     "output_type": "stream",
     "text": [
      "(28140, 784) (13860, 784)\n"
     ]
    }
   ],
   "source": [
    "print x_train.shape, x_valid.shape"
   ]
  },
  {
   "cell_type": "markdown",
   "metadata": {},
   "source": [
    "## xgb params"
   ]
  },
  {
   "cell_type": "code",
   "execution_count": null,
   "metadata": {
    "collapsed": false
   },
   "outputs": [
    {
     "name": "stdout",
     "output_type": "stream",
     "text": [
      "[0]\ttrain-merror:0.132942\tvalid-merror:0.161688\n",
      "Multiple eval metrics have been passed: 'valid-merror' will be used for early stopping.\n",
      "\n",
      "Will train until valid-merror hasn't improved in 100 rounds.\n",
      "[10]\ttrain-merror:0.026297\tvalid-merror:0.060534\n",
      "[20]\ttrain-merror:0.007747\tvalid-merror:0.044517\n",
      "[30]\ttrain-merror:0.001741\tvalid-merror:0.037229\n",
      "[40]\ttrain-merror:0.000107\tvalid-merror:0.033189\n",
      "[50]\ttrain-merror:0\tvalid-merror:0.030808\n",
      "[60]\ttrain-merror:0\tvalid-merror:0.030375\n",
      "[70]\ttrain-merror:0\tvalid-merror:0.029365\n",
      "[80]\ttrain-merror:0\tvalid-merror:0.02785\n",
      "[90]\ttrain-merror:0\tvalid-merror:0.027489\n",
      "[100]\ttrain-merror:0\tvalid-merror:0.027345\n",
      "[110]\ttrain-merror:0\tvalid-merror:0.027128\n",
      "[120]\ttrain-merror:0\tvalid-merror:0.026768\n",
      "[130]\ttrain-merror:0\tvalid-merror:0.026768\n",
      "[140]\ttrain-merror:0\tvalid-merror:0.026623\n",
      "[150]\ttrain-merror:0\tvalid-merror:0.026407\n",
      "[160]\ttrain-merror:0\tvalid-merror:0.026696\n",
      "[170]\ttrain-merror:0\tvalid-merror:0.026335\n",
      "[180]\ttrain-merror:0\tvalid-merror:0.026263\n",
      "[190]\ttrain-merror:0\tvalid-merror:0.025758\n",
      "[200]\ttrain-merror:0\tvalid-merror:0.025758\n",
      "[210]\ttrain-merror:0\tvalid-merror:0.025325\n",
      "[220]\ttrain-merror:0\tvalid-merror:0.025469\n",
      "[230]\ttrain-merror:0\tvalid-merror:0.025036\n",
      "[240]\ttrain-merror:0\tvalid-merror:0.025036\n",
      "[250]\ttrain-merror:0\tvalid-merror:0.024964\n",
      "[260]\ttrain-merror:0\tvalid-merror:0.025036\n",
      "[270]\ttrain-merror:0\tvalid-merror:0.025036\n",
      "[280]\ttrain-merror:0\tvalid-merror:0.025253\n",
      "[290]\ttrain-merror:0\tvalid-merror:0.025036\n",
      "[300]\ttrain-merror:0\tvalid-merror:0.024964\n",
      "[310]\ttrain-merror:0\tvalid-merror:0.02482\n",
      "[320]\ttrain-merror:0\tvalid-merror:0.024747\n",
      "[330]\ttrain-merror:0\tvalid-merror:0.024747\n",
      "[340]\ttrain-merror:0\tvalid-merror:0.024747\n",
      "[350]\ttrain-merror:0\tvalid-merror:0.02482\n",
      "[360]\ttrain-merror:0\tvalid-merror:0.024892\n",
      "[370]\ttrain-merror:0\tvalid-merror:0.02482\n",
      "[380]\ttrain-merror:0\tvalid-merror:0.024892\n",
      "[390]\ttrain-merror:0\tvalid-merror:0.024747\n",
      "[400]\ttrain-merror:0\tvalid-merror:0.024747\n",
      "[410]\ttrain-merror:0\tvalid-merror:0.024747\n",
      "[420]\ttrain-merror:0\tvalid-merror:0.02482\n",
      "[430]\ttrain-merror:0\tvalid-merror:0.024675\n",
      "[440]\ttrain-merror:0\tvalid-merror:0.024531\n",
      "[450]\ttrain-merror:0\tvalid-merror:0.024675\n",
      "[460]\ttrain-merror:0\tvalid-merror:0.024747\n",
      "[470]\ttrain-merror:0\tvalid-merror:0.024675\n",
      "[480]\ttrain-merror:0\tvalid-merror:0.024531\n",
      "[490]\ttrain-merror:0\tvalid-merror:0.024747\n",
      "[500]\ttrain-merror:0\tvalid-merror:0.024531\n",
      "[510]\ttrain-merror:0\tvalid-merror:0.024242\n",
      "[520]\ttrain-merror:0\tvalid-merror:0.02417\n",
      "[530]\ttrain-merror:0\tvalid-merror:0.024098\n",
      "[540]\ttrain-merror:0\tvalid-merror:0.02417\n",
      "[550]\ttrain-merror:0\tvalid-merror:0.024098\n",
      "[560]\ttrain-merror:0\tvalid-merror:0.02417\n",
      "[570]\ttrain-merror:0\tvalid-merror:0.02417\n",
      "[580]\ttrain-merror:0\tvalid-merror:0.024098\n",
      "[590]\ttrain-merror:0\tvalid-merror:0.024098\n",
      "[600]\ttrain-merror:0\tvalid-merror:0.024387\n",
      "[610]\ttrain-merror:0\tvalid-merror:0.024242\n",
      "[620]\ttrain-merror:0\tvalid-merror:0.024098\n",
      "[630]\ttrain-merror:0\tvalid-merror:0.024026\n",
      "[640]\ttrain-merror:0\tvalid-merror:0.02417\n",
      "[650]\ttrain-merror:0\tvalid-merror:0.024098\n",
      "[660]\ttrain-merror:0\tvalid-merror:0.024026\n",
      "[670]\ttrain-merror:0\tvalid-merror:0.024098\n"
     ]
    }
   ],
   "source": [
    "params={\n",
    "    'booster':'gbtree',\n",
    "    'objective': 'multi:softmax', #多分类的问题\n",
    "    'num_class':10, # 类别数，与 multisoftmax 并用\n",
    "    \n",
    "    'eta': 0.3, # 如同学习率 scikit-learn:eta –> learning_rate \n",
    "    'max_depth':6, # 构建树的深度，越大越容易过拟合\n",
    "    'colsample_bytree':0.3, # 生成树时进行的列采样\n",
    "    'seed':400,\n",
    "    \n",
    "    'silent':0 ,#设置成1则没有运行信息输出，最好是设置为0.\n",
    "    'nthread':4,# cpu 线程数\n",
    "}\n",
    "\n",
    "watchlist = [(xgb_train, 'train'), (xgb_valid, 'valid')]\n",
    "clf = xgb.train(params, xgb_train, 1000, watchlist, early_stopping_rounds=100, verbose_eval=10)"
   ]
  },
  {
   "cell_type": "code",
   "execution_count": 11,
   "metadata": {
    "collapsed": false
   },
   "outputs": [
    {
     "data": {
      "text/html": [
       "<div>\n",
       "<table border=\"1\" class=\"dataframe\">\n",
       "  <thead>\n",
       "    <tr style=\"text-align: right;\">\n",
       "      <th></th>\n",
       "      <th>ImageId</th>\n",
       "      <th>Label</th>\n",
       "    </tr>\n",
       "  </thead>\n",
       "  <tbody>\n",
       "    <tr>\n",
       "      <th>0</th>\n",
       "      <td>1</td>\n",
       "      <td>2</td>\n",
       "    </tr>\n",
       "    <tr>\n",
       "      <th>1</th>\n",
       "      <td>2</td>\n",
       "      <td>0</td>\n",
       "    </tr>\n",
       "    <tr>\n",
       "      <th>2</th>\n",
       "      <td>3</td>\n",
       "      <td>9</td>\n",
       "    </tr>\n",
       "    <tr>\n",
       "      <th>3</th>\n",
       "      <td>4</td>\n",
       "      <td>9</td>\n",
       "    </tr>\n",
       "    <tr>\n",
       "      <th>4</th>\n",
       "      <td>5</td>\n",
       "      <td>3</td>\n",
       "    </tr>\n",
       "  </tbody>\n",
       "</table>\n",
       "</div>"
      ],
      "text/plain": [
       "   ImageId  Label\n",
       "0        1      2\n",
       "1        2      0\n",
       "2        3      9\n",
       "3        4      9\n",
       "4        5      3"
      ]
     },
     "execution_count": 11,
     "metadata": {},
     "output_type": "execute_result"
    }
   ],
   "source": [
    "pre_test = clf.predict(xgb_test)\n",
    "submit_df = pd.read_csv('data/sample_submission.csv')\n",
    "submit_df.Label = pre_test.astype(int)\n",
    "submit_df.to_csv('data/xgboost.csv',index=None,encoding='utf-8')\n",
    "submit_df.head()"
   ]
  },
  {
   "cell_type": "code",
   "execution_count": 36,
   "metadata": {
    "collapsed": false
   },
   "outputs": [],
   "source": []
  }
 ],
 "metadata": {
  "anaconda-cloud": {},
  "kernelspec": {
   "display_name": "Python 2",
   "language": "python",
   "name": "python2"
  },
  "language_info": {
   "codemirror_mode": {
    "name": "ipython",
    "version": 2
   },
   "file_extension": ".py",
   "mimetype": "text/x-python",
   "name": "python",
   "nbconvert_exporter": "python",
   "pygments_lexer": "ipython2",
   "version": "2.7.13"
  }
 },
 "nbformat": 4,
 "nbformat_minor": 1
}

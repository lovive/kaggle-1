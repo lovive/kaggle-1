{
 "cells": [
  {
   "cell_type": "code",
   "execution_count": 1,
   "metadata": {
    "collapsed": false
   },
   "outputs": [
    {
     "name": "stderr",
     "output_type": "stream",
     "text": [
      "/home/shunguo/SDE/anaconda2/lib/python2.7/site-packages/sklearn/cross_validation.py:44: DeprecationWarning: This module was deprecated in version 0.18 in favor of the model_selection module into which all the refactored classes and functions are moved. Also note that the interface of the new CV iterators are different from that of this module. This module will be removed in 0.20.\n",
      "  \"This module will be removed in 0.20.\", DeprecationWarning)\n"
     ]
    }
   ],
   "source": [
    "import numpy as np\n",
    "import pandas as pd\n",
    "import xgboost as xgb\n",
    "from sklearn.cross_validation import train_test_split"
   ]
  },
  {
   "cell_type": "markdown",
   "metadata": {},
   "source": [
    "## load data and cleaning data"
   ]
  },
  {
   "cell_type": "code",
   "execution_count": 6,
   "metadata": {
    "collapsed": false
   },
   "outputs": [],
   "source": [
    "train_df = pd.read_csv('data/train.csv')\n",
    "test_df = pd.read_csv('data/test.csv')"
   ]
  },
  {
   "cell_type": "markdown",
   "metadata": {},
   "source": [
    "## make xgboost DMatrix"
   ]
  },
  {
   "cell_type": "code",
   "execution_count": 9,
   "metadata": {
    "collapsed": false
   },
   "outputs": [],
   "source": [
    "train, valid = train_test_split(train_df, test_size = 0.2, random_state=1)\n",
    "\n",
    "y_train = train.label\n",
    "x_train = train.drop(['label'], axis=1)/255\n",
    "\n",
    "y_valid = valid.label\n",
    "x_valid = valid.drop(['label'], axis=1)/255\n",
    "\n",
    "xgb_train = xgb.DMatrix(x_train, label=y_train)\n",
    "xgb_valid = xgb.DMatrix(x_valid, label=y_valid)\n",
    "xgb_test = xgb.DMatrix(test_df)"
   ]
  },
  {
   "cell_type": "code",
   "execution_count": 10,
   "metadata": {
    "collapsed": false
   },
   "outputs": [
    {
     "name": "stdout",
     "output_type": "stream",
     "text": [
      "(33600, 784) (8400, 784)\n"
     ]
    }
   ],
   "source": [
    "print x_train.shape, x_valid.shape"
   ]
  },
  {
   "cell_type": "markdown",
   "metadata": {},
   "source": [
    "## xgb params"
   ]
  },
  {
   "cell_type": "code",
   "execution_count": 13,
   "metadata": {
    "collapsed": false
   },
   "outputs": [
    {
     "name": "stdout",
     "output_type": "stream",
     "text": [
      "[0]\ttrain-merror:0.146637\tvalid-merror:0.173452\n",
      "Multiple eval metrics have been passed: 'valid-merror' will be used for early stopping.\n",
      "\n",
      "Will train until valid-merror hasn't improved in 100 rounds.\n",
      "[10]\ttrain-merror:0.029762\tvalid-merror:0.059048\n",
      "[20]\ttrain-merror:0.009911\tvalid-merror:0.044048\n",
      "[30]\ttrain-merror:0.002619\tvalid-merror:0.036548\n",
      "[40]\ttrain-merror:0.000506\tvalid-merror:0.033095\n",
      "[50]\ttrain-merror:3e-05\tvalid-merror:0.030476\n",
      "[60]\ttrain-merror:0\tvalid-merror:0.029286\n",
      "[70]\ttrain-merror:0\tvalid-merror:0.02869\n",
      "[80]\ttrain-merror:0\tvalid-merror:0.027619\n",
      "[90]\ttrain-merror:0\tvalid-merror:0.027262\n",
      "[100]\ttrain-merror:0\tvalid-merror:0.026786\n",
      "[110]\ttrain-merror:0\tvalid-merror:0.026667\n",
      "[120]\ttrain-merror:0\tvalid-merror:0.026429\n",
      "[130]\ttrain-merror:0\tvalid-merror:0.025952\n",
      "[140]\ttrain-merror:0\tvalid-merror:0.025952\n",
      "[150]\ttrain-merror:0\tvalid-merror:0.025595\n",
      "[160]\ttrain-merror:0\tvalid-merror:0.025833\n",
      "[170]\ttrain-merror:0\tvalid-merror:0.025714\n",
      "[180]\ttrain-merror:0\tvalid-merror:0.025476\n",
      "[190]\ttrain-merror:0\tvalid-merror:0.025357\n",
      "[200]\ttrain-merror:0\tvalid-merror:0.024762\n",
      "[210]\ttrain-merror:0\tvalid-merror:0.024762\n",
      "[220]\ttrain-merror:0\tvalid-merror:0.024643\n",
      "[230]\ttrain-merror:0\tvalid-merror:0.024643\n",
      "[240]\ttrain-merror:0\tvalid-merror:0.024405\n",
      "[250]\ttrain-merror:0\tvalid-merror:0.024405\n",
      "[260]\ttrain-merror:0\tvalid-merror:0.024643\n",
      "[270]\ttrain-merror:0\tvalid-merror:0.024167\n",
      "[280]\ttrain-merror:0\tvalid-merror:0.024167\n",
      "[290]\ttrain-merror:0\tvalid-merror:0.024286\n",
      "[300]\ttrain-merror:0\tvalid-merror:0.024405\n",
      "[310]\ttrain-merror:0\tvalid-merror:0.024286\n",
      "[320]\ttrain-merror:0\tvalid-merror:0.024048\n",
      "[330]\ttrain-merror:0\tvalid-merror:0.023929\n",
      "[340]\ttrain-merror:0\tvalid-merror:0.024048\n",
      "[350]\ttrain-merror:0\tvalid-merror:0.024048\n",
      "[360]\ttrain-merror:0\tvalid-merror:0.023929\n",
      "[370]\ttrain-merror:0\tvalid-merror:0.024048\n",
      "[380]\ttrain-merror:0\tvalid-merror:0.024286\n",
      "[390]\ttrain-merror:0\tvalid-merror:0.024167\n",
      "[400]\ttrain-merror:0\tvalid-merror:0.024048\n",
      "[410]\ttrain-merror:0\tvalid-merror:0.024048\n",
      "[420]\ttrain-merror:0\tvalid-merror:0.023929\n",
      "[430]\ttrain-merror:0\tvalid-merror:0.023929\n",
      "[440]\ttrain-merror:0\tvalid-merror:0.02381\n",
      "[450]\ttrain-merror:0\tvalid-merror:0.02381\n",
      "[460]\ttrain-merror:0\tvalid-merror:0.024048\n",
      "Stopping. Best iteration:\n",
      "[362]\ttrain-merror:0\tvalid-merror:0.02381\n",
      "\n"
     ]
    }
   ],
   "source": [
    "params={\n",
    "    'booster':'gbtree',\n",
    "    'objective': 'multi:softmax', #多分类的问题\n",
    "    'num_class':10, # 类别数，与 multisoftmax 并用\n",
    "    \n",
    "    'eta': 0.3, # 如同学习率 scikit-learn:eta –> learning_rate \n",
    "    'max_depth':6, # 构建树的深度，越大越容易过拟合\n",
    "    'colsample_bytree':0.3, # 生成树时进行的列采样\n",
    "    'seed':400,\n",
    "    \n",
    "    'silent':0 ,#设置成1则没有运行信息输出，最好是设置为0.\n",
    "    'nthread':4,# cpu 线程数\n",
    "}\n",
    "\n",
    "watchlist = [(xgb_train, 'train'), (xgb_valid, 'valid')]\n",
    "clf = xgb.train(params, xgb_train, 10000, watchlist, early_stopping_rounds=100, verbose_eval=10)"
   ]
  },
  {
   "cell_type": "code",
   "execution_count": 14,
   "metadata": {
    "collapsed": false
   },
   "outputs": [
    {
     "data": {
      "text/html": [
       "<div>\n",
       "<table border=\"1\" class=\"dataframe\">\n",
       "  <thead>\n",
       "    <tr style=\"text-align: right;\">\n",
       "      <th></th>\n",
       "      <th>ImageId</th>\n",
       "      <th>Label</th>\n",
       "    </tr>\n",
       "  </thead>\n",
       "  <tbody>\n",
       "    <tr>\n",
       "      <th>0</th>\n",
       "      <td>1</td>\n",
       "      <td>2</td>\n",
       "    </tr>\n",
       "    <tr>\n",
       "      <th>1</th>\n",
       "      <td>2</td>\n",
       "      <td>0</td>\n",
       "    </tr>\n",
       "    <tr>\n",
       "      <th>2</th>\n",
       "      <td>3</td>\n",
       "      <td>9</td>\n",
       "    </tr>\n",
       "    <tr>\n",
       "      <th>3</th>\n",
       "      <td>4</td>\n",
       "      <td>9</td>\n",
       "    </tr>\n",
       "    <tr>\n",
       "      <th>4</th>\n",
       "      <td>5</td>\n",
       "      <td>3</td>\n",
       "    </tr>\n",
       "  </tbody>\n",
       "</table>\n",
       "</div>"
      ],
      "text/plain": [
       "   ImageId  Label\n",
       "0        1      2\n",
       "1        2      0\n",
       "2        3      9\n",
       "3        4      9\n",
       "4        5      3"
      ]
     },
     "execution_count": 14,
     "metadata": {},
     "output_type": "execute_result"
    }
   ],
   "source": [
    "pre_test = clf.predict(xgb_test)\n",
    "submit_df = pd.read_csv('data/sample_submission.csv')\n",
    "submit_df.Label = pre_test.astype(int)\n",
    "submit_df.to_csv('data/xgboost.csv',index=None,encoding='utf-8')\n",
    "submit_df.head()"
   ]
  },
  {
   "cell_type": "code",
   "execution_count": 36,
   "metadata": {
    "collapsed": false
   },
   "outputs": [],
   "source": [
    ""
   ]
  }
 ],
 "metadata": {
  "anaconda-cloud": {},
  "kernelspec": {
   "display_name": "Python 2",
   "language": "python",
   "name": "python2"
  },
  "language_info": {
   "codemirror_mode": {
    "name": "ipython",
    "version": 2.0
   },
   "file_extension": ".py",
   "mimetype": "text/x-python",
   "name": "python",
   "nbconvert_exporter": "python",
   "pygments_lexer": "ipython2",
   "version": "2.7.13"
  }
 },
 "nbformat": 4,
 "nbformat_minor": 0
}
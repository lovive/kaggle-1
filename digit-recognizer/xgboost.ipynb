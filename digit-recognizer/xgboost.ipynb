{
 "cells": [
  {
   "cell_type": "code",
   "execution_count": 1,
   "metadata": {
    "collapsed": true
   },
   "outputs": [],
   "source": [
    "import numpy as np\n",
    "import pandas as pd\n",
    "import xgboost as xgb\n",
    "from sklearn.cross_validation import train_test_split"
   ]
  },
  {
   "cell_type": "markdown",
   "metadata": {},
   "source": [
    "## load data"
   ]
  },
  {
   "cell_type": "code",
   "execution_count": 2,
   "metadata": {
    "collapsed": true
   },
   "outputs": [],
   "source": [
    "test_df = pd.read_csv('data/test.csv')\n",
    "train_df = pd.read_csv('data/train.csv')"
   ]
  },
  {
   "cell_type": "markdown",
   "metadata": {},
   "source": [
    "## make xgboost DMatrix"
   ]
  },
  {
   "cell_type": "code",
   "execution_count": 10,
   "metadata": {
    "collapsed": false
   },
   "outputs": [],
   "source": [
    "train, valid = train_test_split(train_df, test_size = 0.2, random_state=1)\n",
    "\n",
    "y_train = train.label\n",
    "x_train = train.drop(['label'], axis=1)\n",
    "\n",
    "y_valid = valid.label\n",
    "x_valid = valid.drop(['label'], axis=1)\n",
    "\n",
    "xgb_train = xgb.DMatrix(x_train, label=y_train)\n",
    "xgb_valid = xgb.DMatrix(x_valid, label=y_valid)\n",
    "xgb_test = xgb.DMatrix(test_df)"
   ]
  },
  {
   "cell_type": "code",
   "execution_count": 11,
   "metadata": {
    "collapsed": false
   },
   "outputs": [
    {
     "name": "stdout",
     "output_type": "stream",
     "text": [
      "(33600, 784) (8400, 784)\n"
     ]
    }
   ],
   "source": [
    "print x_train.shape, x_valid.shape"
   ]
  },
  {
   "cell_type": "markdown",
   "metadata": {},
   "source": [
    "## xgb params"
   ]
  },
  {
   "cell_type": "code",
   "execution_count": 12,
   "metadata": {
    "collapsed": false
   },
   "outputs": [
    {
     "name": "stdout",
     "output_type": "stream",
     "text": [
      "[0]\ttrain-merror:0.093601\tvalid-merror:0.120714\n",
      "Multiple eval metrics have been passed: 'valid-merror' will be used for early stopping.\n",
      "\n",
      "Will train until valid-merror hasn't improved in 100 rounds.\n",
      "[10]\ttrain-merror:0.038304\tvalid-merror:0.064643\n",
      "[20]\ttrain-merror:0.03006\tvalid-merror:0.058452\n",
      "[30]\ttrain-merror:0.024881\tvalid-merror:0.054167\n",
      "[40]\ttrain-merror:0.021012\tvalid-merror:0.052024\n",
      "[50]\ttrain-merror:0.018333\tvalid-merror:0.048929\n",
      "[60]\ttrain-merror:0.015952\tvalid-merror:0.046667\n",
      "[70]\ttrain-merror:0.013601\tvalid-merror:0.045\n",
      "[80]\ttrain-merror:0.012202\tvalid-merror:0.04381\n",
      "[90]\ttrain-merror:0.010149\tvalid-merror:0.042857\n",
      "[100]\ttrain-merror:0.008363\tvalid-merror:0.04131\n",
      "[110]\ttrain-merror:0.006994\tvalid-merror:0.039881\n",
      "[120]\ttrain-merror:0.005595\tvalid-merror:0.038929\n",
      "[130]\ttrain-merror:0.004702\tvalid-merror:0.037857\n",
      "[140]\ttrain-merror:0.00369\tvalid-merror:0.036667\n",
      "[150]\ttrain-merror:0.002649\tvalid-merror:0.035714\n",
      "[160]\ttrain-merror:0.002262\tvalid-merror:0.035476\n",
      "[170]\ttrain-merror:0.001905\tvalid-merror:0.034762\n",
      "[180]\ttrain-merror:0.001458\tvalid-merror:0.033929\n",
      "[190]\ttrain-merror:0.00122\tvalid-merror:0.033571\n",
      "[200]\ttrain-merror:0.000982\tvalid-merror:0.033214\n",
      "[210]\ttrain-merror:0.000804\tvalid-merror:0.032619\n",
      "[220]\ttrain-merror:0.000625\tvalid-merror:0.031905\n",
      "[230]\ttrain-merror:0.000446\tvalid-merror:0.031071\n",
      "[240]\ttrain-merror:0.000357\tvalid-merror:0.031071\n",
      "[250]\ttrain-merror:0.000298\tvalid-merror:0.030714\n",
      "[260]\ttrain-merror:0.000268\tvalid-merror:0.030357\n",
      "[270]\ttrain-merror:0.000149\tvalid-merror:0.030714\n",
      "[280]\ttrain-merror:0.000119\tvalid-merror:0.030119\n",
      "[290]\ttrain-merror:0.000119\tvalid-merror:0.029643\n",
      "[300]\ttrain-merror:0.000119\tvalid-merror:0.029643\n",
      "[310]\ttrain-merror:8.9e-05\tvalid-merror:0.029405\n",
      "[320]\ttrain-merror:6e-05\tvalid-merror:0.029524\n",
      "[330]\ttrain-merror:3e-05\tvalid-merror:0.029643\n",
      "[340]\ttrain-merror:3e-05\tvalid-merror:0.028929\n",
      "[350]\ttrain-merror:3e-05\tvalid-merror:0.028571\n",
      "[360]\ttrain-merror:3e-05\tvalid-merror:0.028214\n",
      "[370]\ttrain-merror:3e-05\tvalid-merror:0.028214\n",
      "[380]\ttrain-merror:3e-05\tvalid-merror:0.027976\n",
      "[390]\ttrain-merror:3e-05\tvalid-merror:0.027857\n",
      "[400]\ttrain-merror:3e-05\tvalid-merror:0.027738\n",
      "[410]\ttrain-merror:3e-05\tvalid-merror:0.027857\n",
      "[420]\ttrain-merror:3e-05\tvalid-merror:0.0275\n",
      "[430]\ttrain-merror:3e-05\tvalid-merror:0.027381\n",
      "[440]\ttrain-merror:3e-05\tvalid-merror:0.027381\n",
      "[450]\ttrain-merror:3e-05\tvalid-merror:0.0275\n",
      "[460]\ttrain-merror:0\tvalid-merror:0.027024\n",
      "[470]\ttrain-merror:0\tvalid-merror:0.027143\n",
      "[480]\ttrain-merror:0\tvalid-merror:0.027024\n",
      "[490]\ttrain-merror:0\tvalid-merror:0.026786\n",
      "[500]\ttrain-merror:0\tvalid-merror:0.026667\n",
      "[510]\ttrain-merror:0\tvalid-merror:0.026786\n",
      "[520]\ttrain-merror:0\tvalid-merror:0.026548\n",
      "[530]\ttrain-merror:0\tvalid-merror:0.026667\n",
      "[540]\ttrain-merror:0\tvalid-merror:0.026667\n",
      "[550]\ttrain-merror:0\tvalid-merror:0.026548\n",
      "[560]\ttrain-merror:0\tvalid-merror:0.02631\n",
      "[570]\ttrain-merror:0\tvalid-merror:0.026548\n",
      "[580]\ttrain-merror:0\tvalid-merror:0.026429\n",
      "[590]\ttrain-merror:0\tvalid-merror:0.02631\n",
      "[600]\ttrain-merror:0\tvalid-merror:0.02631\n",
      "[610]\ttrain-merror:0\tvalid-merror:0.02631\n",
      "[620]\ttrain-merror:0\tvalid-merror:0.02631\n",
      "[630]\ttrain-merror:0\tvalid-merror:0.026429\n",
      "[640]\ttrain-merror:0\tvalid-merror:0.026667\n",
      "[650]\ttrain-merror:0\tvalid-merror:0.026548\n",
      "Stopping. Best iteration:\n",
      "[553]\ttrain-merror:0\tvalid-merror:0.02619\n",
      "\n"
     ]
    }
   ],
   "source": [
    "params={\n",
    "'booster':'gbtree',\n",
    "'objective': 'multi:softmax', #多分类的问题\n",
    "'num_class':10, # 类别数，与 multisoftmax 并用\n",
    "'gamma':0.1,  # 用于控制是否后剪枝的参数,越大越保守，一般0.1、0.2这样子。\n",
    "'max_depth':12, # 构建树的深度，越大越容易过拟合\n",
    "'colsample_bytree':0.7, # 生成树时进行的列采样\n",
    "'min_child_weight':10, \n",
    "# 这个参数默认是 1，是每个叶子里面 h 的和至少是多少，对正负样本不均衡时的 0-1 分类而言\n",
    "#，假设 h 在 0.01 附近，min_child_weight 为 1 意味着叶子节点中最少需要包含 100 个样本。\n",
    "#这个参数非常影响结果，控制叶子节点中二阶导的和的最小值，该参数值越小，越容易 overfitting。 \n",
    "'silent':0 ,#设置成1则没有运行信息输出，最好是设置为0.\n",
    "'eta': 0.037, # 如同学习率\n",
    "'seed':1000,\n",
    "'nthread':4,# cpu 线程数\n",
    "#'eval_metric': 'auc'\n",
    "}\n",
    "watchlist = [(xgb_train, 'train'), (xgb_valid, 'valid')]\n",
    "clf = xgb.train(params, xgb_train, 10000, watchlist, early_stopping_rounds=100, verbose_eval=10)"
   ]
  },
  {
   "cell_type": "code",
   "execution_count": 53,
   "metadata": {
    "collapsed": false
   },
   "outputs": [
    {
     "data": {
      "text/html": [
       "<div>\n",
       "<table border=\"1\" class=\"dataframe\">\n",
       "  <thead>\n",
       "    <tr style=\"text-align: right;\">\n",
       "      <th></th>\n",
       "      <th>ImageId</th>\n",
       "      <th>Label</th>\n",
       "    </tr>\n",
       "  </thead>\n",
       "  <tbody>\n",
       "    <tr>\n",
       "      <th>0</th>\n",
       "      <td>1</td>\n",
       "      <td>2</td>\n",
       "    </tr>\n",
       "    <tr>\n",
       "      <th>1</th>\n",
       "      <td>2</td>\n",
       "      <td>0</td>\n",
       "    </tr>\n",
       "    <tr>\n",
       "      <th>2</th>\n",
       "      <td>3</td>\n",
       "      <td>9</td>\n",
       "    </tr>\n",
       "    <tr>\n",
       "      <th>3</th>\n",
       "      <td>4</td>\n",
       "      <td>7</td>\n",
       "    </tr>\n",
       "    <tr>\n",
       "      <th>4</th>\n",
       "      <td>5</td>\n",
       "      <td>3</td>\n",
       "    </tr>\n",
       "  </tbody>\n",
       "</table>\n",
       "</div>"
      ],
      "text/plain": [
       "   ImageId  Label\n",
       "0        1      2\n",
       "1        2      0\n",
       "2        3      9\n",
       "3        4      7\n",
       "4        5      3"
      ]
     },
     "execution_count": 53,
     "metadata": {},
     "output_type": "execute_result"
    }
   ],
   "source": [
    "pre_test = clf.predict(xgb_test)\n",
    "submit_df = pd.read_csv('data/sample_submission.csv')\n",
    "submit_df.Label = pre_test.astype(int)\n",
    "submit_df.to_csv('data/xgboost.csv',index=None,encoding='utf-8')\n",
    "submit_df.head()"
   ]
  },
  {
   "cell_type": "code",
   "execution_count": 36,
   "metadata": {
    "collapsed": false
   },
   "outputs": [],
   "source": []
  }
 ],
 "metadata": {
  "anaconda-cloud": {},
  "kernelspec": {
   "display_name": "Python [default]",
   "language": "python",
   "name": "python2"
  },
  "language_info": {
   "codemirror_mode": {
    "name": "ipython",
    "version": 2
   },
   "file_extension": ".py",
   "mimetype": "text/x-python",
   "name": "python",
   "nbconvert_exporter": "python",
   "pygments_lexer": "ipython2",
   "version": "2.7.12"
  }
 },
 "nbformat": 4,
 "nbformat_minor": 1
}

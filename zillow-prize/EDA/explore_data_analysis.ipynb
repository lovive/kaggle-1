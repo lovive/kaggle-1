{
 "cells": [
  {
   "cell_type": "code",
   "execution_count": 1,
   "metadata": {
    "collapsed": false
   },
   "outputs": [],
   "source": [
    "# import libary\n",
    "import numpy as np\n",
    "import pandas as pd\n",
    "import matplotlib.pyplot as plt\n",
    "import seaborn as sns\n",
    "\n",
    "import warnings\n",
    "warnings.filterwarnings(\"ignore\")"
   ]
  },
  {
   "cell_type": "markdown",
   "metadata": {},
   "source": [
    "## 1.load data"
   ]
  },
  {
   "cell_type": "code",
   "execution_count": 2,
   "metadata": {
    "collapsed": false
   },
   "outputs": [
    {
     "name": "stdout",
     "output_type": "stream",
     "text": [
      "Binding to float32\n"
     ]
    }
   ],
   "source": [
    "train = pd.read_csv('../data/train_2016.csv')\n",
    "properties = pd.read_csv('../data/properties_2016.csv')\n",
    "\n",
    "print \"Binding to float32\"\n",
    "for c, dtype in zip(properties.columns, properties.dtypes):\n",
    "    if dtype == np.float64:\n",
    "        properties[c] = properties[c].astype(np.float32)\n",
    "\n",
    "train_df = train.merge(properties , on='parcelid', how='left')\n",
    "del properties, train"
   ]
  },
  {
   "cell_type": "markdown",
   "metadata": {},
   "source": [
    "## 2.Explore data"
   ]
  },
  {
   "cell_type": "markdown",
   "metadata": {},
   "source": [
    "### 2.1 Describe train_df"
   ]
  },
  {
   "cell_type": "code",
   "execution_count": 3,
   "metadata": {
    "collapsed": false
   },
   "outputs": [
    {
     "data": {
      "text/html": [
       "<div>\n",
       "<table border=\"1\" class=\"dataframe\">\n",
       "  <thead>\n",
       "    <tr style=\"text-align: right;\">\n",
       "      <th></th>\n",
       "      <th>parcelid</th>\n",
       "      <th>logerror</th>\n",
       "      <th>airconditioningtypeid</th>\n",
       "      <th>architecturalstyletypeid</th>\n",
       "      <th>basementsqft</th>\n",
       "      <th>bathroomcnt</th>\n",
       "      <th>bedroomcnt</th>\n",
       "      <th>buildingclasstypeid</th>\n",
       "      <th>buildingqualitytypeid</th>\n",
       "      <th>calculatedbathnbr</th>\n",
       "      <th>...</th>\n",
       "      <th>yardbuildingsqft26</th>\n",
       "      <th>yearbuilt</th>\n",
       "      <th>numberofstories</th>\n",
       "      <th>structuretaxvaluedollarcnt</th>\n",
       "      <th>taxvaluedollarcnt</th>\n",
       "      <th>assessmentyear</th>\n",
       "      <th>landtaxvaluedollarcnt</th>\n",
       "      <th>taxamount</th>\n",
       "      <th>taxdelinquencyyear</th>\n",
       "      <th>censustractandblock</th>\n",
       "    </tr>\n",
       "  </thead>\n",
       "  <tbody>\n",
       "    <tr>\n",
       "      <th>count</th>\n",
       "      <td>9.081100e+04</td>\n",
       "      <td>90811.000000</td>\n",
       "      <td>28781.000000</td>\n",
       "      <td>261.000000</td>\n",
       "      <td>43.000000</td>\n",
       "      <td>90275.000000</td>\n",
       "      <td>90275.000000</td>\n",
       "      <td>16.0</td>\n",
       "      <td>57364.000000</td>\n",
       "      <td>89093.000000</td>\n",
       "      <td>...</td>\n",
       "      <td>95.000000</td>\n",
       "      <td>89519.000000</td>\n",
       "      <td>20570.000000</td>\n",
       "      <td>8.989500e+04</td>\n",
       "      <td>9.027400e+04</td>\n",
       "      <td>90275.000000</td>\n",
       "      <td>9.027400e+04</td>\n",
       "      <td>90269.000000</td>\n",
       "      <td>1783.000000</td>\n",
       "      <td>8.967000e+04</td>\n",
       "    </tr>\n",
       "    <tr>\n",
       "      <th>mean</th>\n",
       "      <td>1.299360e+07</td>\n",
       "      <td>0.010816</td>\n",
       "      <td>1.816372</td>\n",
       "      <td>7.229885</td>\n",
       "      <td>713.581421</td>\n",
       "      <td>2.279474</td>\n",
       "      <td>3.031869</td>\n",
       "      <td>4.0</td>\n",
       "      <td>5.565407</td>\n",
       "      <td>2.309216</td>\n",
       "      <td>...</td>\n",
       "      <td>311.694733</td>\n",
       "      <td>1968.412354</td>\n",
       "      <td>1.440739</td>\n",
       "      <td>1.800911e+05</td>\n",
       "      <td>4.576780e+05</td>\n",
       "      <td>2015.907715</td>\n",
       "      <td>2.783359e+05</td>\n",
       "      <td>5983.966309</td>\n",
       "      <td>13.402692</td>\n",
       "      <td>6.050522e+13</td>\n",
       "    </tr>\n",
       "    <tr>\n",
       "      <th>std</th>\n",
       "      <td>2.504000e+06</td>\n",
       "      <td>0.163288</td>\n",
       "      <td>2.974517</td>\n",
       "      <td>2.716197</td>\n",
       "      <td>437.434174</td>\n",
       "      <td>1.004230</td>\n",
       "      <td>1.156281</td>\n",
       "      <td>0.0</td>\n",
       "      <td>1.900903</td>\n",
       "      <td>0.975884</td>\n",
       "      <td>...</td>\n",
       "      <td>346.354889</td>\n",
       "      <td>23.764511</td>\n",
       "      <td>0.544545</td>\n",
       "      <td>2.091276e+05</td>\n",
       "      <td>5.548759e+05</td>\n",
       "      <td>0.907591</td>\n",
       "      <td>4.004918e+05</td>\n",
       "      <td>6838.798828</td>\n",
       "      <td>2.715971</td>\n",
       "      <td>2.051377e+11</td>\n",
       "    </tr>\n",
       "    <tr>\n",
       "      <th>min</th>\n",
       "      <td>1.071174e+07</td>\n",
       "      <td>-4.605000</td>\n",
       "      <td>1.000000</td>\n",
       "      <td>2.000000</td>\n",
       "      <td>100.000000</td>\n",
       "      <td>0.000000</td>\n",
       "      <td>0.000000</td>\n",
       "      <td>4.0</td>\n",
       "      <td>1.000000</td>\n",
       "      <td>1.000000</td>\n",
       "      <td>...</td>\n",
       "      <td>18.000000</td>\n",
       "      <td>1885.000000</td>\n",
       "      <td>1.000000</td>\n",
       "      <td>1.000000e+02</td>\n",
       "      <td>2.200000e+01</td>\n",
       "      <td>2015.000000</td>\n",
       "      <td>2.200000e+01</td>\n",
       "      <td>49.080002</td>\n",
       "      <td>6.000000</td>\n",
       "      <td>6.037101e+13</td>\n",
       "    </tr>\n",
       "    <tr>\n",
       "      <th>25%</th>\n",
       "      <td>1.156440e+07</td>\n",
       "      <td>-0.026300</td>\n",
       "      <td>1.000000</td>\n",
       "      <td>7.000000</td>\n",
       "      <td>407.500000</td>\n",
       "      <td>2.000000</td>\n",
       "      <td>2.000000</td>\n",
       "      <td>4.0</td>\n",
       "      <td>4.000000</td>\n",
       "      <td>2.000000</td>\n",
       "      <td>...</td>\n",
       "      <td>100.000000</td>\n",
       "      <td>1953.000000</td>\n",
       "      <td>1.000000</td>\n",
       "      <td>8.124500e+04</td>\n",
       "      <td>1.990232e+05</td>\n",
       "      <td>2015.000000</td>\n",
       "      <td>8.222800e+04</td>\n",
       "      <td>2872.830078</td>\n",
       "      <td>13.000000</td>\n",
       "      <td>6.037320e+13</td>\n",
       "    </tr>\n",
       "    <tr>\n",
       "      <th>50%</th>\n",
       "      <td>1.255372e+07</td>\n",
       "      <td>0.005000</td>\n",
       "      <td>1.000000</td>\n",
       "      <td>7.000000</td>\n",
       "      <td>616.000000</td>\n",
       "      <td>2.000000</td>\n",
       "      <td>3.000000</td>\n",
       "      <td>4.0</td>\n",
       "      <td>7.000000</td>\n",
       "      <td>2.000000</td>\n",
       "      <td>...</td>\n",
       "      <td>159.000000</td>\n",
       "      <td>1970.000000</td>\n",
       "      <td>1.000000</td>\n",
       "      <td>1.320000e+05</td>\n",
       "      <td>3.428720e+05</td>\n",
       "      <td>2015.000000</td>\n",
       "      <td>1.929700e+05</td>\n",
       "      <td>4542.750000</td>\n",
       "      <td>14.000000</td>\n",
       "      <td>6.037615e+13</td>\n",
       "    </tr>\n",
       "    <tr>\n",
       "      <th>75%</th>\n",
       "      <td>1.423720e+07</td>\n",
       "      <td>0.039200</td>\n",
       "      <td>1.000000</td>\n",
       "      <td>7.000000</td>\n",
       "      <td>872.000000</td>\n",
       "      <td>3.000000</td>\n",
       "      <td>4.000000</td>\n",
       "      <td>4.0</td>\n",
       "      <td>7.000000</td>\n",
       "      <td>3.000000</td>\n",
       "      <td>...</td>\n",
       "      <td>361.000000</td>\n",
       "      <td>1987.000000</td>\n",
       "      <td>2.000000</td>\n",
       "      <td>2.105345e+05</td>\n",
       "      <td>5.405890e+05</td>\n",
       "      <td>2015.000000</td>\n",
       "      <td>3.454195e+05</td>\n",
       "      <td>6901.089844</td>\n",
       "      <td>15.000000</td>\n",
       "      <td>6.059042e+13</td>\n",
       "    </tr>\n",
       "    <tr>\n",
       "      <th>max</th>\n",
       "      <td>1.629608e+08</td>\n",
       "      <td>4.737000</td>\n",
       "      <td>13.000000</td>\n",
       "      <td>21.000000</td>\n",
       "      <td>1555.000000</td>\n",
       "      <td>20.000000</td>\n",
       "      <td>16.000000</td>\n",
       "      <td>4.0</td>\n",
       "      <td>12.000000</td>\n",
       "      <td>20.000000</td>\n",
       "      <td>...</td>\n",
       "      <td>1366.000000</td>\n",
       "      <td>2015.000000</td>\n",
       "      <td>4.000000</td>\n",
       "      <td>9.948100e+06</td>\n",
       "      <td>2.775000e+07</td>\n",
       "      <td>2015.000000</td>\n",
       "      <td>2.450000e+07</td>\n",
       "      <td>321936.093750</td>\n",
       "      <td>99.000000</td>\n",
       "      <td>6.111009e+13</td>\n",
       "    </tr>\n",
       "  </tbody>\n",
       "</table>\n",
       "<p>8 rows × 54 columns</p>\n",
       "</div>"
      ],
      "text/plain": [
       "           parcelid      logerror  airconditioningtypeid  \\\n",
       "count  9.081100e+04  90811.000000           28781.000000   \n",
       "mean   1.299360e+07      0.010816               1.816372   \n",
       "std    2.504000e+06      0.163288               2.974517   \n",
       "min    1.071174e+07     -4.605000               1.000000   \n",
       "25%    1.156440e+07     -0.026300               1.000000   \n",
       "50%    1.255372e+07      0.005000               1.000000   \n",
       "75%    1.423720e+07      0.039200               1.000000   \n",
       "max    1.629608e+08      4.737000              13.000000   \n",
       "\n",
       "       architecturalstyletypeid  basementsqft   bathroomcnt    bedroomcnt  \\\n",
       "count                261.000000     43.000000  90275.000000  90275.000000   \n",
       "mean                   7.229885    713.581421      2.279474      3.031869   \n",
       "std                    2.716197    437.434174      1.004230      1.156281   \n",
       "min                    2.000000    100.000000      0.000000      0.000000   \n",
       "25%                    7.000000    407.500000      2.000000      2.000000   \n",
       "50%                    7.000000    616.000000      2.000000      3.000000   \n",
       "75%                    7.000000    872.000000      3.000000      4.000000   \n",
       "max                   21.000000   1555.000000     20.000000     16.000000   \n",
       "\n",
       "       buildingclasstypeid  buildingqualitytypeid  calculatedbathnbr  \\\n",
       "count                 16.0           57364.000000       89093.000000   \n",
       "mean                   4.0               5.565407           2.309216   \n",
       "std                    0.0               1.900903           0.975884   \n",
       "min                    4.0               1.000000           1.000000   \n",
       "25%                    4.0               4.000000           2.000000   \n",
       "50%                    4.0               7.000000           2.000000   \n",
       "75%                    4.0               7.000000           3.000000   \n",
       "max                    4.0              12.000000          20.000000   \n",
       "\n",
       "              ...           yardbuildingsqft26     yearbuilt  numberofstories  \\\n",
       "count         ...                    95.000000  89519.000000     20570.000000   \n",
       "mean          ...                   311.694733   1968.412354         1.440739   \n",
       "std           ...                   346.354889     23.764511         0.544545   \n",
       "min           ...                    18.000000   1885.000000         1.000000   \n",
       "25%           ...                   100.000000   1953.000000         1.000000   \n",
       "50%           ...                   159.000000   1970.000000         1.000000   \n",
       "75%           ...                   361.000000   1987.000000         2.000000   \n",
       "max           ...                  1366.000000   2015.000000         4.000000   \n",
       "\n",
       "       structuretaxvaluedollarcnt  taxvaluedollarcnt  assessmentyear  \\\n",
       "count                8.989500e+04       9.027400e+04    90275.000000   \n",
       "mean                 1.800911e+05       4.576780e+05     2015.907715   \n",
       "std                  2.091276e+05       5.548759e+05        0.907591   \n",
       "min                  1.000000e+02       2.200000e+01     2015.000000   \n",
       "25%                  8.124500e+04       1.990232e+05     2015.000000   \n",
       "50%                  1.320000e+05       3.428720e+05     2015.000000   \n",
       "75%                  2.105345e+05       5.405890e+05     2015.000000   \n",
       "max                  9.948100e+06       2.775000e+07     2015.000000   \n",
       "\n",
       "       landtaxvaluedollarcnt      taxamount  taxdelinquencyyear  \\\n",
       "count           9.027400e+04   90269.000000         1783.000000   \n",
       "mean            2.783359e+05    5983.966309           13.402692   \n",
       "std             4.004918e+05    6838.798828            2.715971   \n",
       "min             2.200000e+01      49.080002            6.000000   \n",
       "25%             8.222800e+04    2872.830078           13.000000   \n",
       "50%             1.929700e+05    4542.750000           14.000000   \n",
       "75%             3.454195e+05    6901.089844           15.000000   \n",
       "max             2.450000e+07  321936.093750           99.000000   \n",
       "\n",
       "       censustractandblock  \n",
       "count         8.967000e+04  \n",
       "mean          6.050522e+13  \n",
       "std           2.051377e+11  \n",
       "min           6.037101e+13  \n",
       "25%           6.037320e+13  \n",
       "50%           6.037615e+13  \n",
       "75%           6.059042e+13  \n",
       "max           6.111009e+13  \n",
       "\n",
       "[8 rows x 54 columns]"
      ]
     },
     "execution_count": 3,
     "metadata": {},
     "output_type": "execute_result"
    }
   ],
   "source": [
    "train_df.describe()"
   ]
  },
  {
   "cell_type": "code",
   "execution_count": 4,
   "metadata": {
    "collapsed": false
   },
   "outputs": [
    {
     "name": "stdout",
     "output_type": "stream",
     "text": [
      "<class 'pandas.core.frame.DataFrame'>\n",
      "Int64Index: 90811 entries, 0 to 90810\n",
      "Data columns (total 60 columns):\n",
      "parcelid                        90811 non-null int64\n",
      "logerror                        90811 non-null float64\n",
      "transactiondate                 90811 non-null object\n",
      "airconditioningtypeid           28781 non-null float32\n",
      "architecturalstyletypeid        261 non-null float32\n",
      "basementsqft                    43 non-null float32\n",
      "bathroomcnt                     90275 non-null float32\n",
      "bedroomcnt                      90275 non-null float32\n",
      "buildingclasstypeid             16 non-null float32\n",
      "buildingqualitytypeid           57364 non-null float32\n",
      "calculatedbathnbr               89093 non-null float32\n",
      "decktypeid                      658 non-null float32\n",
      "finishedfloor1squarefeet        6856 non-null float32\n",
      "calculatedfinishedsquarefeet    89614 non-null float32\n",
      "finishedsquarefeet12            85596 non-null float32\n",
      "finishedsquarefeet13            33 non-null float32\n",
      "finishedsquarefeet15            3564 non-null float32\n",
      "finishedsquarefeet50            6856 non-null float32\n",
      "finishedsquarefeet6             421 non-null float32\n",
      "fips                            90275 non-null float32\n",
      "fireplacecnt                    9607 non-null float32\n",
      "fullbathcnt                     89093 non-null float32\n",
      "garagecarcnt                    29937 non-null float32\n",
      "garagetotalsqft                 29937 non-null float32\n",
      "hashottuborspa                  2365 non-null object\n",
      "heatingorsystemtypeid           56080 non-null float32\n",
      "latitude                        90275 non-null float32\n",
      "longitude                       90275 non-null float32\n",
      "lotsizesquarefeet               80125 non-null float32\n",
      "poolcnt                         17901 non-null float32\n",
      "poolsizesum                     969 non-null float32\n",
      "pooltypeid10                    1161 non-null float32\n",
      "pooltypeid2                     1204 non-null float32\n",
      "pooltypeid7                     16697 non-null float32\n",
      "propertycountylandusecode       90274 non-null object\n",
      "propertylandusetypeid           90275 non-null float32\n",
      "propertyzoningdesc              58313 non-null object\n",
      "rawcensustractandblock          90275 non-null float32\n",
      "regionidcity                    88472 non-null float32\n",
      "regionidcounty                  90275 non-null float32\n",
      "regionidneighborhood            36012 non-null float32\n",
      "regionidzip                     90240 non-null float32\n",
      "roomcnt                         90275 non-null float32\n",
      "storytypeid                     43 non-null float32\n",
      "threequarterbathnbr             12009 non-null float32\n",
      "typeconstructiontypeid          299 non-null float32\n",
      "unitcnt                         58353 non-null float32\n",
      "yardbuildingsqft17              2646 non-null float32\n",
      "yardbuildingsqft26              95 non-null float32\n",
      "yearbuilt                       89519 non-null float32\n",
      "numberofstories                 20570 non-null float32\n",
      "fireplaceflag                   222 non-null object\n",
      "structuretaxvaluedollarcnt      89895 non-null float32\n",
      "taxvaluedollarcnt               90274 non-null float32\n",
      "assessmentyear                  90275 non-null float32\n",
      "landtaxvaluedollarcnt           90274 non-null float32\n",
      "taxamount                       90269 non-null float32\n",
      "taxdelinquencyflag              1783 non-null object\n",
      "taxdelinquencyyear              1783 non-null float32\n",
      "censustractandblock             89670 non-null float32\n",
      "dtypes: float32(52), float64(1), int64(1), object(6)\n",
      "memory usage: 24.2+ MB\n"
     ]
    }
   ],
   "source": [
    "train_df.info()"
   ]
  },
  {
   "cell_type": "markdown",
   "metadata": {},
   "source": [
    "### 2.2 Explore feature"
   ]
  },
  {
   "cell_type": "code",
   "execution_count": 5,
   "metadata": {
    "collapsed": false
   },
   "outputs": [
    {
     "name": "stdout",
     "output_type": "stream",
     "text": [
      "90811\n"
     ]
    },
    {
     "data": {
      "image/png": "[encoded data removed]",
      "text/plain": [
       "<matplotlib.figure.Figure at 0x7f6f806bf5d0>"
      ]
     },
     "metadata": {},
     "output_type": "display_data"
    }
   ],
   "source": [
    "# explore logerror\n",
    "feature = 'logerror'\n",
    "\n",
    "feature_data = train_df[feature][train_df[feature].notnull()]\n",
    "print len(feature_data)\n",
    "\n",
    "fig = plt.figure(figsize=(16,6))\n",
    "\n",
    "ax = fig.add_subplot(121)\n",
    "plt.scatter(range(len(feature_data)), np.sort(feature_data))\n",
    "\n",
    "ax = fig.add_subplot(122)\n",
    "plt.hist(feature_data, bins=20)\n",
    "\n",
    "plt.show()"
   ]
  },
  {
   "cell_type": "markdown",
   "metadata": {},
   "source": [
    "from fig1, some people logerror outlier [-0.4, 0.42]"
   ]
  },
  {
   "cell_type": "code",
   "execution_count": 41,
   "metadata": {
    "collapsed": false
   },
   "outputs": [],
   "source": [
    "# geographic location by folium and cluster by k-means\n",
    "geo_df = train_df[['latitude', 'longitude','logerror']]\n",
    "geo_df['longitude']/=1e6\n",
    "geo_df['latitude']/=1e6\n",
    "\n",
    "#print geo_df[geo_df['logerror']==0]\n",
    "\n",
    "#from sklearn.cluster import KMeans\n",
    "#kmeans = KMeans().fit(geo_df[['latitude','longitude']])"
   ]
  },
  {
   "cell_type": "code",
   "execution_count": 44,
   "metadata": {
    "collapsed": false
   },
   "outputs": [
    {
     "name": "stdout",
     "output_type": "stream",
     "text": [
      "85596\n"
     ]
    },
    {
     "data": {
      "image/png": "[encoded data removed]",
      "text/plain": [
       "<matplotlib.figure.Figure at 0x7fa3a64386d0>"
      ]
     },
     "metadata": {},
     "output_type": "display_data"
    }
   ],
   "source": [
    "# explore feature finishedsquarefeet12\n",
    "feature = 'finishedsquarefeet12'\n",
    "\n",
    "feature_data = train_df[feature][train_df[feature].notnull()]\n",
    "print len(feature_data)\n",
    "\n",
    "fig = plt.figure(figsize=(16,6))\n",
    "\n",
    "ax = fig.add_subplot(121)\n",
    "plt.scatter(range(len(feature_data)), np.sort(feature_data))\n",
    "\n",
    "ax = fig.add_subplot(122)\n",
    "plt.hist(feature_data, bins=20)\n",
    "\n",
    "plt.show()"
   ]
  },
  {
   "cell_type": "code",
   "execution_count": 46,
   "metadata": {
    "collapsed": false
   },
   "outputs": [
    {
     "name": "stdout",
     "output_type": "stream",
     "text": [
      "89614\n"
     ]
    },
    {
     "data": {
      "image/png": "[encoded data removed]",
      "text/plain": [
       "<matplotlib.figure.Figure at 0x7fa3a60ecb50>"
      ]
     },
     "metadata": {},
     "output_type": "display_data"
    }
   ],
   "source": [
    "# explore calculatedfinishedsquarefeet\n",
    "feature = 'calculatedfinishedsquarefeet'\n",
    "\n",
    "feature_data = train_df[feature][train_df[feature].notnull()]\n",
    "print len(feature_data)\n",
    "\n",
    "fig = plt.figure(figsize=(16,6))\n",
    "\n",
    "ax = fig.add_subplot(121)\n",
    "plt.scatter(range(len(feature_data)), np.sort(feature_data))\n",
    "\n",
    "ax = fig.add_subplot(122)\n",
    "plt.hist(feature_data, bins=20)\n",
    "\n",
    "plt.show()"
   ]
  },
  {
   "cell_type": "code",
   "execution_count": 62,
   "metadata": {
    "collapsed": false
   },
   "outputs": [
    {
     "name": "stdout",
     "output_type": "stream",
     "text": [
      "90811 90811\n"
     ]
    },
    {
     "data": {
      "image/png": "[encoded data removed]",
      "text/plain": [
       "<matplotlib.figure.Figure at 0x7fa38fe7a550>"
      ]
     },
     "metadata": {},
     "output_type": "display_data"
    }
   ],
   "source": [
    "# explore featrue calculatedfinishedsquarefeet and finishedsquarefeet12\n",
    "feature_c = 'calculatedfinishedsquarefeet'\n",
    "feature_f = 'finishedsquarefeet12'\n",
    "\n",
    "train_df[feature_f] = train_df[feature_f].fillna(train_df[feature_c])\n",
    "train_df[feature_c] = train_df[feature_c].fillna(train_df[feature_f])\n",
    "#feature_c_data = train_df[feature_c][train_df[feature_c].notnull()]\n",
    "#feature_f_data = train_df[feature_f][train_df[feature_f].notnull()]\n",
    "\n",
    "print len(train_df[feature_f].notnull()), len(train_df[feature_c].notnull())\n",
    "\n",
    "fig = plt.figure(figsize=(16,6))\n",
    "\n",
    "ax = fig.add_subplot(111)\n",
    "plt.scatter(train_df[feature_c],train_df[feature_f])\n",
    "\n",
    "#ax = fig.add_subplot(122)\n",
    "#plt.hist(feature_data, bins=20)\n",
    "\n",
    "plt.show()"
   ]
  },
  {
   "cell_type": "code",
   "execution_count": null,
   "metadata": {
    "collapsed": true
   },
   "outputs": [],
   "source": [
    ""
   ]
  }
 ],
 "metadata": {
  "kernelspec": {
   "display_name": "Python 2",
   "language": "python",
   "name": "python2"
  },
  "language_info": {
   "codemirror_mode": {
    "name": "ipython",
    "version": 2.0
   },
   "file_extension": ".py",
   "mimetype": "text/x-python",
   "name": "python",
   "nbconvert_exporter": "python",
   "pygments_lexer": "ipython2",
   "version": "2.7.13"
  }
 },
 "nbformat": 4,
 "nbformat_minor": 0
}
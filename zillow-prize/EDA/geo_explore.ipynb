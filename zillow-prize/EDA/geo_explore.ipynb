{
 "cells": [
  {
   "cell_type": "code",
   "execution_count": 1,
   "metadata": {
    "collapsed": true
   },
   "outputs": [],
   "source": [
    "# import libary\n",
    "import numpy as np\n",
    "import pandas as pd\n",
    "import matplotlib.pyplot as plt\n",
    "import seaborn as sns\n",
    "\n",
    "import warnings\n",
    "warnings.filterwarnings(\"ignore\")"
   ]
  },
  {
   "cell_type": "markdown",
   "metadata": {},
   "source": [
    "## Load data"
   ]
  },
  {
   "cell_type": "code",
   "execution_count": 5,
   "metadata": {
    "collapsed": false
   },
   "outputs": [
    {
     "name": "stdout",
     "output_type": "stream",
     "text": [
      "Binding to float32\n"
     ]
    }
   ],
   "source": [
    "# load data\n",
    "train = pd.read_csv('../data/train_2016.csv')\n",
    "properties = pd.read_csv('../data/properties_2016.csv')\n",
    "\n",
    "print \"Binding to float32\"\n",
    "for c, dtype in zip(properties.columns, properties.dtypes):\n",
    "    if dtype == np.float64:\n",
    "        properties[c] = properties[c].astype(np.float32)\n",
    "\n",
    "train_df = train.merge(properties , on='parcelid', how='left')\n",
    "\n",
    "# make geo_df\n",
    "geo_df = train_df[['latitude', 'longitude','logerror']]\n",
    "geo_df['longitude'] /= 1e6\n",
    "geo_df['latitude'] /= 1e6\n",
    "    \n",
    "del properties, train, train_df"
   ]
  },
  {
   "cell_type": "markdown",
   "metadata": {},
   "source": [
    "# visualation Geographic\n",
    "## Geographic Coordinate Systems（地理坐标系统）\n",
    "\n",
    "Longitude values：经度[-180,180] \n",
    "\n",
    "Latitude values：纬度[-90,90]"
   ]
  },
  {
   "cell_type": "code",
   "execution_count": 15,
   "metadata": {
    "collapsed": false
   },
   "outputs": [
    {
     "name": "stdout",
     "output_type": "stream",
     "text": [
      "lon:[-119.447864, -117.554928] \n",
      "lat:[33.339296, 34.816008] \n"
     ]
    }
   ],
   "source": [
    "print \"lon:[%s, %s] \" %(geo_df['longitude'].min(), geo_df['longitude'].max())\n",
    "print \"lat:[%s, %s] \" %(geo_df['latitude'].min(), geo_df['latitude'].max())"
   ]
  },
  {
   "cell_type": "code",
   "execution_count": 16,
   "metadata": {
    "collapsed": true
   },
   "outputs": [],
   "source": [
    "## Cluster geo by k-means"
   ]
  },
  {
   "cell_type": "code",
   "execution_count": 17,
   "metadata": {
    "collapsed": true
   },
   "outputs": [],
   "source": [
    "from sklearn.cluster import KMeans"
   ]
  },
  {
   "cell_type": "code",
   "execution_count": 31,
   "metadata": {
    "collapsed": false
   },
   "outputs": [],
   "source": [
    "train = geo_df[['latitude', 'longitude']].notnull()\n",
    "kmeans = KMeans(n_clusters=10).fit(train)\n",
    "pre = kmeans.fit_predict(train)"
   ]
  },
  {
   "cell_type": "code",
   "execution_count": 32,
   "metadata": {
    "collapsed": false
   },
   "outputs": [
    {
     "name": "stdout",
     "output_type": "stream",
     "text": [
      "1 2\n"
     ]
    }
   ],
   "source": [
    "print min(pre), max(pre)"
   ]
  },
  {
   "cell_type": "code",
   "execution_count": null,
   "metadata": {
    "collapsed": true
   },
   "outputs": [],
   "source": []
  }
 ],
 "metadata": {
  "kernelspec": {
   "display_name": "Python 2",
   "language": "python",
   "name": "python2"
  },
  "language_info": {
   "codemirror_mode": {
    "name": "ipython",
    "version": 2
   },
   "file_extension": ".py",
   "mimetype": "text/x-python",
   "name": "python",
   "nbconvert_exporter": "python",
   "pygments_lexer": "ipython2",
   "version": "2.7.13"
  }
 },
 "nbformat": 4,
 "nbformat_minor": 2
}

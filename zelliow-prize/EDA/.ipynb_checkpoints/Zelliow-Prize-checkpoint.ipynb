{
 "cells": [
  {
   "cell_type": "markdown",
   "metadata": {},
   "source": [
    "# Zillow房价竞赛数据分析"
   ]
  },
  {
   "cell_type": "code",
   "execution_count": 1,
   "metadata": {
    "collapsed": false
   },
   "outputs": [
    {
     "name": "stderr",
     "output_type": "stream",
     "text": [
      "/home/shunguo/SDE/anaconda2/lib/python2.7/site-packages/sklearn/cross_validation.py:44: DeprecationWarning: This module was deprecated in version 0.18 in favor of the model_selection module into which all the refactored classes and functions are moved. Also note that the interface of the new CV iterators are different from that of this module. This module will be removed in 0.20.\n",
      "  \"This module will be removed in 0.20.\", DeprecationWarning)\n"
     ]
    }
   ],
   "source": [
    "import numpy as np\n",
    "import pandas as pd\n",
    "import xgboost as xgb\n",
    "from sklearn.cross_validation import train_test_split\n",
    "\n",
    "import matplotlib.pyplot as plt\n",
    "import seaborn as sns\n",
    "\n",
    "%matplotlib inline"
   ]
  },
  {
   "cell_type": "markdown",
   "metadata": {},
   "source": [
    "## 1.Data Cleaning and Analysis"
   ]
  },
  {
   "cell_type": "markdown",
   "metadata": {},
   "source": [
    "We "
   ]
  },
  {
   "cell_type": "code",
   "execution_count": 8,
   "metadata": {
    "collapsed": false
   },
   "outputs": [],
   "source": [
    "train_df = pd.read_csv('../data/train_2016.csv')\n",
    "properties_df = pd.read_csv('../data/properties_2016.csv')\n",
    "\n",
    "# Translate dtypes as float32, save memory\n",
    "for c, dtype in zip(properties_df.columns, properties_df.dtypes):\n",
    "    if dtype == np.float64:\n",
    "        properties_df[c] = properties_df[c].astype(np.float32)\n",
    "\n",
    "#get train data\n",
    "sample_df['parcelid'] = sample_df['ParcelId']\n",
    "train = train_df.merge(properties_df,how='left',on='parcelid')\n",
    "test = sample_df.merge(properties_df,how='left',on='parcelid')"
   ]
  },
  {
   "cell_type": "code",
   "execution_count": 22,
   "metadata": {
    "collapsed": false
   },
   "outputs": [
    {
     "name": "stdout",
     "output_type": "stream",
     "text": [
      "<class 'pandas.core.frame.DataFrame'>\n",
      "Int64Index: 2985217 entries, 0 to 2985216\n",
      "Data columns (total 65 columns):\n",
      "ParcelId                        int64\n",
      "201610                          int64\n",
      "201611                          int64\n",
      "201612                          int64\n",
      "201710                          int64\n",
      "201711                          int64\n",
      "201712                          int64\n",
      "parcelid                        int64\n",
      "airconditioningtypeid           float32\n",
      "architecturalstyletypeid        float32\n",
      "basementsqft                    float32\n",
      "bathroomcnt                     float32\n",
      "bedroomcnt                      float32\n",
      "buildingclasstypeid             float32\n",
      "buildingqualitytypeid           float32\n",
      "calculatedbathnbr               float32\n",
      "decktypeid                      float32\n",
      "finishedfloor1squarefeet        float32\n",
      "calculatedfinishedsquarefeet    float32\n",
      "finishedsquarefeet12            float32\n",
      "finishedsquarefeet13            float32\n",
      "finishedsquarefeet15            float32\n",
      "finishedsquarefeet50            float32\n",
      "finishedsquarefeet6             float32\n",
      "fips                            float32\n",
      "fireplacecnt                    float32\n",
      "fullbathcnt                     float32\n",
      "garagecarcnt                    float32\n",
      "garagetotalsqft                 float32\n",
      "hashottuborspa                  object\n",
      "heatingorsystemtypeid           float32\n",
      "latitude                        float32\n",
      "longitude                       float32\n",
      "lotsizesquarefeet               float32\n",
      "poolcnt                         float32\n",
      "poolsizesum                     float32\n",
      "pooltypeid10                    float32\n",
      "pooltypeid2                     float32\n",
      "pooltypeid7                     float32\n",
      "propertycountylandusecode       object\n",
      "propertylandusetypeid           float32\n",
      "propertyzoningdesc              object\n",
      "rawcensustractandblock          float32\n",
      "regionidcity                    float32\n",
      "regionidcounty                  float32\n",
      "regionidneighborhood            float32\n",
      "regionidzip                     float32\n",
      "roomcnt                         float32\n",
      "storytypeid                     float32\n",
      "threequarterbathnbr             float32\n",
      "typeconstructiontypeid          float32\n",
      "unitcnt                         float32\n",
      "yardbuildingsqft17              float32\n",
      "yardbuildingsqft26              float32\n",
      "yearbuilt                       float32\n",
      "numberofstories                 float32\n",
      "fireplaceflag                   object\n",
      "structuretaxvaluedollarcnt      float32\n",
      "taxvaluedollarcnt               float32\n",
      "assessmentyear                  float32\n",
      "landtaxvaluedollarcnt           float32\n",
      "taxamount                       float32\n",
      "taxdelinquencyflag              object\n",
      "taxdelinquencyyear              float32\n",
      "censustractandblock             float32\n",
      "dtypes: float32(52), int64(8), object(5)\n",
      "memory usage: 911.0+ MB\n"
     ]
    }
   ],
   "source": [
    "test.info()"
   ]
  },
  {
   "cell_type": "markdown",
   "metadata": {
    "collapsed": true
   },
   "source": [
    "## 二、DEA（数据可视化和异常值处理）"
   ]
  },
  {
   "cell_type": "markdown",
   "metadata": {},
   "source": [
    "### feature = logerror"
   ]
  },
  {
   "cell_type": "code",
   "execution_count": 16,
   "metadata": {
    "collapsed": false
   },
   "outputs": [
    {
     "data": {
      "image/png": "[encoded data removed]",
      "text/plain": [
       "<matplotlib.figure.Figure at 0x164e6550>"
      ]
     },
     "metadata": {},
     "output_type": "display_data"
    }
   ],
   "source": [
    "feature = 'logerror'\n",
    "\n",
    "plt.figure(figsize=(4,3))\n",
    "plt.scatter(range(train.shape[0]),np.sort(train[feature].values))\n",
    "plt.show()"
   ]
  },
  {
   "cell_type": "code",
   "execution_count": 15,
   "metadata": {
    "collapsed": false
   },
   "outputs": [
    {
     "data": {
      "image/png": "[encoded data removed]",
      "text/plain": [
       "<matplotlib.figure.Figure at 0x1d4a69e8>"
      ]
     },
     "metadata": {},
     "output_type": "display_data"
    }
   ],
   "source": [
    "train = train[train[feature] > -0.4]\n",
    "train = train[train[feature] < 0.4]\n",
    "\n",
    "plt.figure(figsize=(4,3))\n",
    "plt.hist(train[feature].values,bins=100)\n",
    "plt.show()"
   ]
  },
  {
   "cell_type": "markdown",
   "metadata": {},
   "source": [
    "### feature = transactiondate"
   ]
  },
  {
   "cell_type": "code",
   "execution_count": 128,
   "metadata": {
    "collapsed": false
   },
   "outputs": [],
   "source": [
    "feature = 'transactiondate'\n",
    "if train['transactiondate'].dtypes == np.object:\n",
    "    train['transactiondate'] = train['transactiondate'].astype(np.datetime64)\n",
    "\n",
    "#train['transaction_month'] = train['transactiondate'].apply(lambda x: x.month)\n",
    "\n",
    "# print train['parcelid'].value_counts()"
   ]
  },
  {
   "cell_type": "markdown",
   "metadata": {},
   "source": [
    "## 三、Feature Engineering（特征工程）"
   ]
  },
  {
   "cell_type": "code",
   "execution_count": 32,
   "metadata": {
    "collapsed": false
   },
   "outputs": [
    {
     "name": "stdout",
     "output_type": "stream",
     "text": [
      "(62218, 55) (26666, 55)\n"
     ]
    }
   ],
   "source": [
    "drop_feature = ['parcelid', 'logerror', 'transactiondate', 'propertyzoningdesc', 'propertycountylandusecode'] \n",
    "#add transaction_month\n",
    "\n",
    "for c in train.dtypes[train.dtypes == object].index.values:\n",
    "    train[c] = (train[c] == True)\n",
    "    \n",
    "trainData, validData = train_test_split(train, test_size = 0.33, random_state=1)\n",
    "\n",
    "x_train = trainData.drop(drop_feature,axis=1) \n",
    "y_train = trainData['logerror']\n",
    "\n",
    "x_valid = validData.drop(drop_feature, axis=1)\n",
    "y_valid = validData['logerror']\n",
    "\n",
    "print x_train.shape, x_valid.shape"
   ]
  },
  {
   "cell_type": "code",
   "execution_count": 33,
   "metadata": {
    "collapsed": false
   },
   "outputs": [],
   "source": [
    "xgb_train = xgb.DMatrix(x_train, label=y_train)\n",
    "xgb_valid = xgb.DMatrix(x_valid, label=y_valid)"
   ]
  },
  {
   "cell_type": "markdown",
   "metadata": {},
   "source": [
    "## 四、Train data"
   ]
  },
  {
   "cell_type": "code",
   "execution_count": null,
   "metadata": {
    "collapsed": false
   },
   "outputs": [
    {
     "name": "stdout",
     "output_type": "stream",
     "text": [
      "[0]\ttrain-mae:0.487981\tvalid-mae:0.488611\n",
      "Multiple eval metrics have been passed: 'valid-mae' will be used for early stopping.\n",
      "\n",
      "Will train until valid-mae hasn't improved in 100 rounds.\n",
      "[10]\ttrain-mae:0.441328\tvalid-mae:0.44196\n",
      "[20]\ttrain-mae:0.399135\tvalid-mae:0.399765\n",
      "[30]\ttrain-mae:0.361038\tvalid-mae:0.361666\n",
      "[40]\ttrain-mae:0.326755\tvalid-mae:0.327394\n",
      "[50]\ttrain-mae:0.295923\tvalid-mae:0.296625\n",
      "[60]\ttrain-mae:0.268234\tvalid-mae:0.268986\n",
      "[70]\ttrain-mae:0.243383\tvalid-mae:0.244175\n",
      "[80]\ttrain-mae:0.221108\tvalid-mae:0.22193\n",
      "[90]\ttrain-mae:0.201155\tvalid-mae:0.202004\n",
      "[100]\ttrain-mae:0.183304\tvalid-mae:0.184181\n",
      "[110]\ttrain-mae:0.167358\tvalid-mae:0.168251\n",
      "[120]\ttrain-mae:0.153118\tvalid-mae:0.15403\n",
      "[130]\ttrain-mae:0.140415\tvalid-mae:0.141359\n",
      "[140]\ttrain-mae:0.129103\tvalid-mae:0.130082\n",
      "[150]\ttrain-mae:0.119067\tvalid-mae:0.120066\n",
      "[160]\ttrain-mae:0.110174\tvalid-mae:0.111186\n",
      "[170]\ttrain-mae:0.10231\tvalid-mae:0.103332\n",
      "[180]\ttrain-mae:0.095375\tvalid-mae:0.096406\n",
      "[190]\ttrain-mae:0.089275\tvalid-mae:0.090315\n",
      "[200]\ttrain-mae:0.083937\tvalid-mae:0.084994\n",
      "[210]\ttrain-mae:0.079288\tvalid-mae:0.080358\n",
      "[220]\ttrain-mae:0.075236\tvalid-mae:0.076316\n",
      "[230]\ttrain-mae:0.071721\tvalid-mae:0.072817\n",
      "[240]\ttrain-mae:0.068684\tvalid-mae:0.069801\n",
      "[250]\ttrain-mae:0.066077\tvalid-mae:0.06721\n",
      "[260]\ttrain-mae:0.063846\tvalid-mae:0.064998\n",
      "[270]\ttrain-mae:0.06194\tvalid-mae:0.063106\n",
      "[280]\ttrain-mae:0.060303\tvalid-mae:0.061492\n",
      "[290]\ttrain-mae:0.058915\tvalid-mae:0.060126\n",
      "[300]\ttrain-mae:0.057738\tvalid-mae:0.058971\n",
      "[310]\ttrain-mae:0.056732\tvalid-mae:0.057993\n",
      "[320]\ttrain-mae:0.055895\tvalid-mae:0.057167\n",
      "[330]\ttrain-mae:0.055183\tvalid-mae:0.056471\n",
      "[340]\ttrain-mae:0.054563\tvalid-mae:0.055886\n",
      "[350]\ttrain-mae:0.054045\tvalid-mae:0.055391\n",
      "[360]\ttrain-mae:0.053604\tvalid-mae:0.054975\n",
      "[370]\ttrain-mae:0.053219\tvalid-mae:0.054627\n",
      "[380]\ttrain-mae:0.05289\tvalid-mae:0.054331\n",
      "[390]\ttrain-mae:0.052602\tvalid-mae:0.054082\n",
      "[400]\ttrain-mae:0.052356\tvalid-mae:0.053872\n"
     ]
    }
   ],
   "source": [
    "params={\n",
    "    'objective': 'reg:linear',\n",
    "    'eval_metric': 'mae',\n",
    "    'eta': 0.01,\n",
    "    'max_depth':8,\n",
    "    'min_child_weight':4, \n",
    "    'lambda': 0.2,\n",
    "    'alpha':0.8,\n",
    "    'silent':0 ,\n",
    "    'seed':1000,\n",
    "    'nthread':4,# cpu 线程数\n",
    "}\n",
    "watchlist = [(xgb_train, 'train'), (xgb_valid, 'valid')]\n",
    "clf = xgb.train(params, xgb_train, 10000, watchlist, early_stopping_rounds=100, verbose_eval=10)"
   ]
  },
  {
   "cell_type": "markdown",
   "metadata": {
    "collapsed": true
   },
   "source": [
    "## 五、Prediction"
   ]
  },
  {
   "cell_type": "code",
   "execution_count": 27,
   "metadata": {
    "collapsed": false
   },
   "outputs": [
    {
     "name": "stderr",
     "output_type": "stream",
     "text": [
      "D:\\SDE\\Anaconda2\\lib\\site-packages\\ipykernel\\__main__.py:3: SettingWithCopyWarning: \n",
      "A value is trying to be set on a copy of a slice from a DataFrame.\n",
      "Try using .loc[row_indexer,col_indexer] = value instead\n",
      "\n",
      "See the caveats in the documentation: http://pandas.pydata.org/pandas-docs/stable/indexing.html#indexing-view-versus-copy\n",
      "  app.launch_new_instance()\n"
     ]
    }
   ],
   "source": [
    "x_test = test[x_train.columns]\n",
    "for c in x_test.dtypes[x_test.dtypes == object].index.values:\n",
    "    x_test[c] = (x_test[c] == True)\n",
    "xgb_test = xgb.DMatrix(x_test)"
   ]
  },
  {
   "cell_type": "code",
   "execution_count": 28,
   "metadata": {
    "collapsed": false
   },
   "outputs": [
    {
     "name": "stdout",
     "output_type": "stream",
     "text": [
      "Writing csv ...\n"
     ]
    }
   ],
   "source": [
    "p_test = clf.predict(xgb_test)\n",
    "\n",
    "sub = pd.read_csv('data/sample_submission.csv')\n",
    "for c in sub.columns[sub.columns != 'ParcelId']:\n",
    "    sub[c] = p_test\n",
    "\n",
    "print('Writing csv ...')\n",
    "sub.to_csv('data/xgb.csv', index=False, float_format='%.4f') "
   ]
  },
  {
   "cell_type": "code",
   "execution_count": null,
   "metadata": {
    "collapsed": true
   },
   "outputs": [],
   "source": []
  }
 ],
 "metadata": {
  "anaconda-cloud": {},
  "kernelspec": {
   "display_name": "Python 2",
   "language": "python",
   "name": "python2"
  },
  "language_info": {
   "codemirror_mode": {
    "name": "ipython",
    "version": 2
   },
   "file_extension": ".py",
   "mimetype": "text/x-python",
   "name": "python",
   "nbconvert_exporter": "python",
   "pygments_lexer": "ipython2",
   "version": "2.7.13"
  }
 },
 "nbformat": 4,
 "nbformat_minor": 0
}

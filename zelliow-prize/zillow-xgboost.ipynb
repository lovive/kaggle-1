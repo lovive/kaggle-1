{
 "cells": [
  {
   "cell_type": "code",
   "execution_count": 17,
   "metadata": {
    "collapsed": true
   },
   "outputs": [],
   "source": [
    "import numpy as np\n",
    "import pandas as pd\n",
    "import xgboost as xgb\n",
    "import gc"
   ]
  },
  {
   "cell_type": "markdown",
   "metadata": {},
   "source": [
    "## read data"
   ]
  },
  {
   "cell_type": "code",
   "execution_count": 9,
   "metadata": {
    "collapsed": false
   },
   "outputs": [],
   "source": [
    "train = pd.read_csv('data/train_2016.csv')\n",
    "prop = pd.read_csv('data/properties_2016.csv')\n",
    "sample = pd.read_csv('data/sample_submission.csv')"
   ]
  },
  {
   "cell_type": "markdown",
   "metadata": {},
   "source": [
    "## merge data frame"
   ]
  },
  {
   "cell_type": "code",
   "execution_count": 10,
   "metadata": {
    "collapsed": false
   },
   "outputs": [
    {
     "data": {
      "text/plain": [
       "49"
      ]
     },
     "execution_count": 10,
     "metadata": {},
     "output_type": "execute_result"
    }
   ],
   "source": [
    "for c, dtype in zip(prop.columns, prop.dtypes):\n",
    "    if dtype == np.float64:\n",
    "        prop[c] = prop[c].astype(np.float32)\n",
    "\n",
    "df_train = train.merge(prop, how='left', on='parcelid')\n",
    "\n",
    "del train; prop; gc.collect()"
   ]
  },
  {
   "cell_type": "markdown",
   "metadata": {},
   "source": [
    "## clearn data:\n",
    "\n",
    "* drop outliers"
   ]
  },
  {
   "cell_type": "code",
   "execution_count": 11,
   "metadata": {
    "collapsed": false
   },
   "outputs": [],
   "source": [
    "df_train = df_train[df_train.logerror > -0.4]\n",
    "df_train = df_train[df_train.logerror < 0.4]\n",
    "x_train = df_train.drop(['parcelid', 'logerror', 'transactiondate', 'propertyzoningdesc', 'propertycountylandusecode'], axis=1)\n",
    "y_train = df_train['logerror'].values"
   ]
  },
  {
   "cell_type": "markdown",
   "metadata": {},
   "source": [
    "## Building DMatrix..."
   ]
  },
  {
   "cell_type": "code",
   "execution_count": 12,
   "metadata": {
    "collapsed": false
   },
   "outputs": [
    {
     "name": "stdout",
     "output_type": "stream",
     "text": [
      "Building DMatrix...\n"
     ]
    },
    {
     "data": {
      "text/plain": [
       "21"
      ]
     },
     "execution_count": 12,
     "metadata": {},
     "output_type": "execute_result"
    }
   ],
   "source": [
    "train_columns = x_train.columns\n",
    "\n",
    "for c in x_train.dtypes[x_train.dtypes == object].index.values:\n",
    "    x_train[c] = (x_train[c] == True)\n",
    "    \n",
    "split = 80000\n",
    "x_train, y_train, x_valid, y_valid = x_train[:split], y_train[:split], x_train[split:], y_train[split:]\n",
    "\n",
    "print('Building DMatrix...')\n",
    "\n",
    "d_train = xgb.DMatrix(x_train, label=y_train)\n",
    "d_valid = xgb.DMatrix(x_valid, label=y_valid)\n",
    "\n",
    "del x_train, x_valid; gc.collect()"
   ]
  },
  {
   "cell_type": "markdown",
   "metadata": {},
   "source": [
    "## Training ......"
   ]
  },
  {
   "cell_type": "code",
   "execution_count": 20,
   "metadata": {
    "collapsed": false
   },
   "outputs": [
    {
     "name": "stdout",
     "output_type": "stream",
     "text": [
      "[0]\ttrain-mae:0.488901\tvalid-mae:0.48149\n",
      "Multiple eval metrics have been passed: 'valid-mae' will be used for early stopping.\n",
      "\n",
      "Will train until valid-mae hasn't improved in 100 rounds.\n",
      "[10]\ttrain-mae:0.442157\tvalid-mae:0.434769\n",
      "[20]\ttrain-mae:0.399881\tvalid-mae:0.392512\n",
      "[30]\ttrain-mae:0.36171\tvalid-mae:0.354366\n",
      "[40]\ttrain-mae:0.327365\tvalid-mae:0.32009\n",
      "[50]\ttrain-mae:0.296491\tvalid-mae:0.289292\n",
      "[60]\ttrain-mae:0.268757\tvalid-mae:0.261687\n",
      "[70]\ttrain-mae:0.243866\tvalid-mae:0.236925\n",
      "[80]\ttrain-mae:0.221555\tvalid-mae:0.214757\n",
      "[90]\ttrain-mae:0.201567\tvalid-mae:0.194952\n",
      "[100]\ttrain-mae:0.183689\tvalid-mae:0.177264\n",
      "[110]\ttrain-mae:0.167722\tvalid-mae:0.161481\n",
      "[120]\ttrain-mae:0.15347\tvalid-mae:0.147386\n",
      "[130]\ttrain-mae:0.140767\tvalid-mae:0.134834\n",
      "[140]\ttrain-mae:0.129462\tvalid-mae:0.123703\n",
      "[150]\ttrain-mae:0.119433\tvalid-mae:0.113841\n",
      "[160]\ttrain-mae:0.110555\tvalid-mae:0.105106\n",
      "[170]\ttrain-mae:0.102707\tvalid-mae:0.097404\n",
      "[180]\ttrain-mae:0.095792\tvalid-mae:0.090649\n",
      "[190]\ttrain-mae:0.089717\tvalid-mae:0.084726\n",
      "[200]\ttrain-mae:0.084405\tvalid-mae:0.079557\n",
      "[210]\ttrain-mae:0.079775\tvalid-mae:0.075069\n",
      "[220]\ttrain-mae:0.075746\tvalid-mae:0.071202\n",
      "[230]\ttrain-mae:0.07225\tvalid-mae:0.067892\n",
      "[240]\ttrain-mae:0.069229\tvalid-mae:0.065077\n",
      "[250]\ttrain-mae:0.066626\tvalid-mae:0.062694\n",
      "[260]\ttrain-mae:0.064388\tvalid-mae:0.060679\n",
      "[270]\ttrain-mae:0.062472\tvalid-mae:0.058989\n",
      "[280]\ttrain-mae:0.060842\tvalid-mae:0.057578\n",
      "[290]\ttrain-mae:0.059443\tvalid-mae:0.056408\n",
      "[300]\ttrain-mae:0.058258\tvalid-mae:0.055443\n",
      "[310]\ttrain-mae:0.057235\tvalid-mae:0.054641\n",
      "[320]\ttrain-mae:0.056381\tvalid-mae:0.05398\n",
      "[330]\ttrain-mae:0.055639\tvalid-mae:0.053431\n",
      "[340]\ttrain-mae:0.055016\tvalid-mae:0.052995\n",
      "[350]\ttrain-mae:0.054467\tvalid-mae:0.052633\n",
      "[360]\ttrain-mae:0.053995\tvalid-mae:0.052348\n",
      "[370]\ttrain-mae:0.053583\tvalid-mae:0.052116\n",
      "[380]\ttrain-mae:0.053238\tvalid-mae:0.051938\n",
      "[390]\ttrain-mae:0.052934\tvalid-mae:0.05179\n",
      "[400]\ttrain-mae:0.052677\tvalid-mae:0.051685\n",
      "[410]\ttrain-mae:0.05241\tvalid-mae:0.051598\n",
      "[420]\ttrain-mae:0.052208\tvalid-mae:0.051535\n",
      "[430]\ttrain-mae:0.052005\tvalid-mae:0.051481\n",
      "[440]\ttrain-mae:0.051813\tvalid-mae:0.05145\n",
      "[450]\ttrain-mae:0.051646\tvalid-mae:0.051418\n",
      "[460]\ttrain-mae:0.051495\tvalid-mae:0.051398\n",
      "[470]\ttrain-mae:0.051343\tvalid-mae:0.051387\n",
      "[480]\ttrain-mae:0.051223\tvalid-mae:0.051381\n",
      "[490]\ttrain-mae:0.051084\tvalid-mae:0.051371\n",
      "[500]\ttrain-mae:0.050971\tvalid-mae:0.051367\n",
      "[510]\ttrain-mae:0.050859\tvalid-mae:0.051367\n",
      "[520]\ttrain-mae:0.050736\tvalid-mae:0.051368\n",
      "[530]\ttrain-mae:0.050627\tvalid-mae:0.051369\n",
      "[540]\ttrain-mae:0.050536\tvalid-mae:0.051375\n",
      "[550]\ttrain-mae:0.050459\tvalid-mae:0.051384\n",
      "[560]\ttrain-mae:0.050356\tvalid-mae:0.051389\n",
      "[570]\ttrain-mae:0.050266\tvalid-mae:0.051391\n",
      "[580]\ttrain-mae:0.050196\tvalid-mae:0.051395\n",
      "[590]\ttrain-mae:0.050103\tvalid-mae:0.0514\n",
      "[600]\ttrain-mae:0.050035\tvalid-mae:0.05141\n",
      "[610]\ttrain-mae:0.049946\tvalid-mae:0.051418\n",
      "Stopping. Best iteration:\n",
      "[514]\ttrain-mae:0.050808\tvalid-mae:0.051364\n",
      "\n"
     ]
    }
   ],
   "source": [
    "params = {}\n",
    "params['eta'] = 0.01\n",
    "params['objective'] = 'reg:linear'\n",
    "params['eval_metric'] = 'mae'\n",
    "params['min_child_weight'] = 20\n",
    "params['colsample_bytree'] = 0.2\n",
    "params['max_depth'] = 12\n",
    "params['lambda'] = 0.3\n",
    "params['alpha'] = 0.6\n",
    "params['silent'] = 1\n",
    "\n",
    "\n",
    "watchlist = [(d_train, 'train'), (d_valid, 'valid')]\n",
    "clf = xgb.train(params, d_train, 10000, watchlist, early_stopping_rounds=100, verbose_eval=10)"
   ]
  },
  {
   "cell_type": "code",
   "execution_count": null,
   "metadata": {
    "collapsed": true
   },
   "outputs": [],
   "source": [
    ""
   ]
  }
 ],
 "metadata": {
  "anaconda-cloud": {},
  "kernelspec": {
   "display_name": "Python [default]",
   "language": "python",
   "name": "python2"
  },
  "language_info": {
   "codemirror_mode": {
    "name": "ipython",
    "version": 2.0
   },
   "file_extension": ".py",
   "mimetype": "text/x-python",
   "name": "python",
   "nbconvert_exporter": "python",
   "pygments_lexer": "ipython2",
   "version": "2.7.12"
  }
 },
 "nbformat": 4,
 "nbformat_minor": 0
}